{
 "cells": [
  {
   "cell_type": "code",
   "execution_count": 2,
   "metadata": {
    "collapsed": true
   },
   "outputs": [],
   "source": [
    "from IPython.display import SVG"
   ]
  },
  {
   "cell_type": "code",
   "execution_count": 10,
   "metadata": {
    "collapsed": false
   },
   "outputs": [
    {
     "data": {
      "image/svg+xml": [
       "<svg height=\"109\" viewBox=\"0 0 109 109\" width=\"109\" xmlns=\"http://www.w3.org/2000/svg\">\n",
       "<g id=\"kvg:StrokePaths_051b3\" style=\"fill:none;stroke:#000000;stroke-width:3;stroke-linecap:round;stroke-linejoin:round;\" xmlns:kvg=\"http://kanjivg.tagaini.net\">\n",
       "<g id=\"kvg:051b3\" kvg:element=\"决\" xmlns:kvg=\"http://kanjivg.tagaini.net\">\n",
       "\t<g id=\"kvg:051b3-g1\" kvg:element=\"冫\" kvg:original=\"水\" kvg:position=\"left\" kvg:radical=\"tradit\" xmlns:kvg=\"http://kanjivg.tagaini.net\">\n",
       "\t\t<g id=\"kvg:051b3-g2\" kvg:position=\"top\" xmlns:kvg=\"http://kanjivg.tagaini.net\">\n",
       "\t\t\t<path d=\"M14.25,23.5c3.62,1.41,9.34,5.8,10.25,8\" id=\"kvg:051b3-s1\" kvg:type=\"㇔\" xmlns:kvg=\"http://kanjivg.tagaini.net\"/>\n",
       "\t\t</g>\n",
       "\t\t<g id=\"kvg:051b3-g3\" kvg:position=\"bottom\" xmlns:kvg=\"http://kanjivg.tagaini.net\">\n",
       "\t\t\t<path d=\"M12.75,81.71c7.5,1.31,3.31,1.36,4.25-0.25C19.75,76.75,22.5,71,25,65\" id=\"kvg:051b3-s2\" kvg:type=\"㇀\" xmlns:kvg=\"http://kanjivg.tagaini.net\"/>\n",
       "\t\t</g>\n",
       "\t</g>\n",
       "\t<g id=\"kvg:051b3-g4\" kvg:element=\"夬\" kvg:position=\"right\" xmlns:kvg=\"http://kanjivg.tagaini.net\">\n",
       "\t\t<path d=\"M41.55,37.57c1.41,0.72,3.05,0.86,5.17,0.71c3.78-0.28,28.98-3.43,31.78-3.86c4.7-0.72,4.33,2.19,3.74,6.33c-0.5,3.5-1,7-2.75,13.5\" id=\"kvg:051b3-s3\" kvg:type=\"㇕c\" xmlns:kvg=\"http://kanjivg.tagaini.net\"/>\n",
       "\t\t<g id=\"kvg:051b3-g5\" kvg:element=\"大\" xmlns:kvg=\"http://kanjivg.tagaini.net\">\n",
       "\t\t\t<path d=\"M36.12,58.03c0.91,0.42,3.24,0.66,4.24,0.59c11.63-0.87,33.76-4.54,49.04-4.94c1.26-0.03,3.05,0.16,5.87,0.89\" id=\"kvg:051b3-s4\" kvg:type=\"㇐\" xmlns:kvg=\"http://kanjivg.tagaini.net\"/>\n",
       "\t\t\t<g id=\"kvg:051b3-g6\" kvg:element=\"人\" xmlns:kvg=\"http://kanjivg.tagaini.net\">\n",
       "\t\t\t\t<path d=\"M59.66,14.5c0.59,1,1.7,2.08,1.7,4.17c0,8.89-0.06,9.37,0.05,16.09C61.85,61.78,54,84.75,34.5,95.75\" id=\"kvg:051b3-s5\" kvg:type=\"㇒\" xmlns:kvg=\"http://kanjivg.tagaini.net\"/>\n",
       "\t\t\t\t<path d=\"M59.56,56.96c8.17,9.1,24.78,28.47,32.94,34.56c2.77,2.07,3.74,2.38,5,2.58\" id=\"kvg:051b3-s6\" kvg:type=\"㇏\" xmlns:kvg=\"http://kanjivg.tagaini.net\"/>\n",
       "\t\t\t</g>\n",
       "\t\t</g>\n",
       "\t</g>\n",
       "</g>\n",
       "</g>\n",
       "<g id=\"kvg:StrokeNumbers_051b3\" style=\"font-size:8;fill:#808080\" xmlns:kvg=\"http://kanjivg.tagaini.net\">\n",
       "\t<text transform=\"matrix(1 0 0 1 7.50 23.50)\">1</text>\n",
       "\t<text transform=\"matrix(1 0 0 1 5.50 84.50)\">2</text>\n",
       "\t<text transform=\"matrix(1 0 0 1 34.50 37.50)\">3</text>\n",
       "\t<text transform=\"matrix(1 0 0 1 33.50 54.50)\">4</text>\n",
       "\t<text transform=\"matrix(1 0 0 1 51.50 14.50)\">5</text>\n",
       "\t<text transform=\"matrix(1 0 0 1 70.50 65.50)\">6</text>\n",
       "</g>\n",
       "</svg>"
      ],
      "text/plain": [
       "<IPython.core.display.SVG object>"
      ]
     },
     "execution_count": 10,
     "metadata": {},
     "output_type": "execute_result"
    }
   ],
   "source": [
    "SVG(\"051b3.svg\")"
   ]
  },
  {
   "cell_type": "code",
   "execution_count": 19,
   "metadata": {
    "collapsed": false
   },
   "outputs": [
    {
     "data": {
      "text/plain": [
       "'𠮟'"
      ]
     },
     "execution_count": 19,
     "metadata": {},
     "output_type": "execute_result"
    }
   ],
   "source": [
    "\"\\U00020b9f\""
   ]
  },
  {
   "cell_type": "code",
   "execution_count": 15,
   "metadata": {
    "collapsed": false
   },
   "outputs": [
    {
     "data": {
      "text/plain": [
       "'𠮟'"
      ]
     },
     "execution_count": 15,
     "metadata": {},
     "output_type": "execute_result"
    }
   ],
   "source": []
  },
  {
   "cell_type": "code",
   "execution_count": 20,
   "metadata": {
    "collapsed": false
   },
   "outputs": [
    {
     "data": {
      "text/plain": [
       "'𠮟'"
      ]
     },
     "execution_count": 20,
     "metadata": {},
     "output_type": "execute_result"
    }
   ],
   "source": [
    "'𠮟'"
   ]
  },
  {
   "cell_type": "code",
   "execution_count": 33,
   "metadata": {
    "collapsed": false
   },
   "outputs": [],
   "source": [
    "c = '俩'"
   ]
  },
  {
   "cell_type": "code",
   "execution_count": 34,
   "metadata": {
    "collapsed": false
   },
   "outputs": [
    {
     "data": {
      "text/plain": [
       "str"
      ]
     },
     "execution_count": 34,
     "metadata": {},
     "output_type": "execute_result"
    }
   ],
   "source": [
    "type(c)"
   ]
  },
  {
   "cell_type": "code",
   "execution_count": 36,
   "metadata": {
    "collapsed": false
   },
   "outputs": [
    {
     "data": {
      "text/plain": [
       "'04fe9.svg'"
      ]
     },
     "execution_count": 36,
     "metadata": {},
     "output_type": "execute_result"
    }
   ],
   "source": [
    "\"{:05x}.svg\".format((ord(c[0])))"
   ]
  },
  {
   "cell_type": "code",
   "execution_count": null,
   "metadata": {
    "collapsed": true
   },
   "outputs": [],
   "source": []
  }
 ],
 "metadata": {
  "kernelspec": {
   "display_name": "Python 3",
   "language": "python",
   "name": "python3"
  },
  "language_info": {
   "codemirror_mode": {
    "name": "ipython",
    "version": 3
   },
   "file_extension": ".py",
   "mimetype": "text/x-python",
   "name": "python",
   "nbconvert_exporter": "python",
   "pygments_lexer": "ipython3",
   "version": "3.4.3"
  }
 },
 "nbformat": 4,
 "nbformat_minor": 0
}
