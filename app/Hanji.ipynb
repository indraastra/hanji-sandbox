{
 "cells": [
  {
   "cell_type": "code",
   "execution_count": 2,
   "metadata": {
    "collapsed": true
   },
   "outputs": [],
   "source": [
    "from IPython.display import SVG"
   ]
  },
  {
   "cell_type": "code",
   "execution_count": 10,
   "metadata": {
    "collapsed": false
   },
   "outputs": [
    {
     "data": {
      "image/svg+xml": [
       "<svg height=\"109\" viewBox=\"0 0 109 109\" width=\"109\" xmlns=\"http://www.w3.org/2000/svg\">\n",
       "<g id=\"kvg:StrokePaths_051b3\" style=\"fill:none;stroke:#000000;stroke-width:3;stroke-linecap:round;stroke-linejoin:round;\" xmlns:kvg=\"http://kanjivg.tagaini.net\">\n",
       "<g id=\"kvg:051b3\" kvg:element=\"决\" xmlns:kvg=\"http://kanjivg.tagaini.net\">\n",
       "\t<g id=\"kvg:051b3-g1\" kvg:element=\"冫\" kvg:original=\"水\" kvg:position=\"left\" kvg:radical=\"tradit\" xmlns:kvg=\"http://kanjivg.tagaini.net\">\n",
       "\t\t<g id=\"kvg:051b3-g2\" kvg:position=\"top\" xmlns:kvg=\"http://kanjivg.tagaini.net\">\n",
       "\t\t\t<path d=\"M14.25,23.5c3.62,1.41,9.34,5.8,10.25,8\" id=\"kvg:051b3-s1\" kvg:type=\"㇔\" xmlns:kvg=\"http://kanjivg.tagaini.net\"/>\n",
       "\t\t</g>\n",
       "\t\t<g id=\"kvg:051b3-g3\" kvg:position=\"bottom\" xmlns:kvg=\"http://kanjivg.tagaini.net\">\n",
       "\t\t\t<path d=\"M12.75,81.71c7.5,1.31,3.31,1.36,4.25-0.25C19.75,76.75,22.5,71,25,65\" id=\"kvg:051b3-s2\" kvg:type=\"㇀\" xmlns:kvg=\"http://kanjivg.tagaini.net\"/>\n",
       "\t\t</g>\n",
       "\t</g>\n",
       "\t<g id=\"kvg:051b3-g4\" kvg:element=\"夬\" kvg:position=\"right\" xmlns:kvg=\"http://kanjivg.tagaini.net\">\n",
       "\t\t<path d=\"M41.55,37.57c1.41,0.72,3.05,0.86,5.17,0.71c3.78-0.28,28.98-3.43,31.78-3.86c4.7-0.72,4.33,2.19,3.74,6.33c-0.5,3.5-1,7-2.75,13.5\" id=\"kvg:051b3-s3\" kvg:type=\"㇕c\" xmlns:kvg=\"http://kanjivg.tagaini.net\"/>\n",
       "\t\t<g id=\"kvg:051b3-g5\" kvg:element=\"大\" xmlns:kvg=\"http://kanjivg.tagaini.net\">\n",
       "\t\t\t<path d=\"M36.12,58.03c0.91,0.42,3.24,0.66,4.24,0.59c11.63-0.87,33.76-4.54,49.04-4.94c1.26-0.03,3.05,0.16,5.87,0.89\" id=\"kvg:051b3-s4\" kvg:type=\"㇐\" xmlns:kvg=\"http://kanjivg.tagaini.net\"/>\n",
       "\t\t\t<g id=\"kvg:051b3-g6\" kvg:element=\"人\" xmlns:kvg=\"http://kanjivg.tagaini.net\">\n",
       "\t\t\t\t<path d=\"M59.66,14.5c0.59,1,1.7,2.08,1.7,4.17c0,8.89-0.06,9.37,0.05,16.09C61.85,61.78,54,84.75,34.5,95.75\" id=\"kvg:051b3-s5\" kvg:type=\"㇒\" xmlns:kvg=\"http://kanjivg.tagaini.net\"/>\n",
       "\t\t\t\t<path d=\"M59.56,56.96c8.17,9.1,24.78,28.47,32.94,34.56c2.77,2.07,3.74,2.38,5,2.58\" id=\"kvg:051b3-s6\" kvg:type=\"㇏\" xmlns:kvg=\"http://kanjivg.tagaini.net\"/>\n",
       "\t\t\t</g>\n",
       "\t\t</g>\n",
       "\t</g>\n",
       "</g>\n",
       "</g>\n",
       "<g id=\"kvg:StrokeNumbers_051b3\" style=\"font-size:8;fill:#808080\" xmlns:kvg=\"http://kanjivg.tagaini.net\">\n",
       "\t<text transform=\"matrix(1 0 0 1 7.50 23.50)\">1</text>\n",
       "\t<text transform=\"matrix(1 0 0 1 5.50 84.50)\">2</text>\n",
       "\t<text transform=\"matrix(1 0 0 1 34.50 37.50)\">3</text>\n",
       "\t<text transform=\"matrix(1 0 0 1 33.50 54.50)\">4</text>\n",
       "\t<text transform=\"matrix(1 0 0 1 51.50 14.50)\">5</text>\n",
       "\t<text transform=\"matrix(1 0 0 1 70.50 65.50)\">6</text>\n",
       "</g>\n",
       "</svg>"
      ],
      "text/plain": [
       "<IPython.core.display.SVG object>"
      ]
     },
     "execution_count": 10,
     "metadata": {},
     "output_type": "execute_result"
    }
   ],
   "source": [
    "SVG(\"051b3.svg\")"
   ]
  },
  {
   "cell_type": "code",
   "execution_count": 19,
   "metadata": {
    "collapsed": false
   },
   "outputs": [
    {
     "data": {
      "text/plain": [
       "'𠮟'"
      ]
     },
     "execution_count": 19,
     "metadata": {},
     "output_type": "execute_result"
    }
   ],
   "source": [
    "\"\\U00020b9f\""
   ]
  },
  {
   "cell_type": "code",
   "execution_count": 15,
   "metadata": {
    "collapsed": false
   },
   "outputs": [
    {
     "data": {
      "text/plain": [
       "'𠮟'"
      ]
     },
     "execution_count": 15,
     "metadata": {},
     "output_type": "execute_result"
    }
   ],
   "source": []
  },
  {
   "cell_type": "code",
   "execution_count": 20,
   "metadata": {
    "collapsed": false
   },
   "outputs": [
    {
     "data": {
      "text/plain": [
       "'𠮟'"
      ]
     },
     "execution_count": 20,
     "metadata": {},
     "output_type": "execute_result"
    }
   ],
   "source": [
    "'𠮟'"
   ]
  },
  {
   "cell_type": "code",
   "execution_count": 33,
   "metadata": {
    "collapsed": false
   },
   "outputs": [],
   "source": [
    "c = '俩'"
   ]
  },
  {
   "cell_type": "code",
   "execution_count": 34,
   "metadata": {
    "collapsed": false
   },
   "outputs": [
    {
     "data": {
      "text/plain": [
       "str"
      ]
     },
     "execution_count": 34,
     "metadata": {},
     "output_type": "execute_result"
    }
   ],
   "source": [
    "type(c)"
   ]
  },
  {
   "cell_type": "code",
   "execution_count": 36,
   "metadata": {
    "collapsed": false
   },
   "outputs": [
    {
     "data": {
      "text/plain": [
       "'04fe9.svg'"
      ]
     },
     "execution_count": 36,
     "metadata": {},
     "output_type": "execute_result"
    }
   ],
   "source": [
    "\"{:05x}.svg\".format((ord(c[0])))"
   ]
  },
  {
   "cell_type": "code",
   "execution_count": 5,
   "metadata": {
    "collapsed": true
   },
   "outputs": [],
   "source": [
    "import lib_kanji as lk"
   ]
  },
  {
   "cell_type": "code",
   "execution_count": 3,
   "metadata": {
    "collapsed": true
   },
   "outputs": [],
   "source": [
    "kxml = lib_kanji.load_xml('我')"
   ]
  },
  {
   "cell_type": "code",
   "execution_count": 6,
   "metadata": {
    "collapsed": false
   },
   "outputs": [],
   "source": [
    "kdict = lk.parse_svg(kxml)"
   ]
  },
  {
   "cell_type": "code",
   "execution_count": 7,
   "metadata": {
    "collapsed": false
   },
   "outputs": [
    {
     "data": {
      "text/plain": [
       "OrderedDict([('svg',\n",
       "              OrderedDict([('@xmlns', 'http://www.w3.org/2000/svg'),\n",
       "                           ('@width', '300'),\n",
       "                           ('@height', '300'),\n",
       "                           ('@viewBox', '0 0 109 109'),\n",
       "                           ('g',\n",
       "                            [OrderedDict([('@id', 'kvg:StrokePaths_06211'),\n",
       "                                          ('@style',\n",
       "                                           'fill:none;stroke:#000000;stroke-width:3;stroke-linecap:round;stroke-linejoin:round;'),\n",
       "                                          ('@xmlns:kvg',\n",
       "                                           'http://kanjivg.tagaini.net'),\n",
       "                                          ('g',\n",
       "                                           OrderedDict([('@id', 'kvg:06211'),\n",
       "                                                        ('@kvg:element', '我'),\n",
       "                                                        ('@xmlns:kvg',\n",
       "                                                         'http://kanjivg.tagaini.net'),\n",
       "                                                        ('g',\n",
       "                                                         [OrderedDict([('@id',\n",
       "                                                                        'kvg:06211-g1'),\n",
       "                                                                       ('@kvg:element',\n",
       "                                                                        '丿'),\n",
       "                                                                       ('@kvg:radical',\n",
       "                                                                        'nelson'),\n",
       "                                                                       ('@xmlns:kvg',\n",
       "                                                                        'http://kanjivg.tagaini.net'),\n",
       "                                                                       ('path',\n",
       "                                                                        OrderedDict([('@id',\n",
       "                                                                                      'kvg:06211-s1'),\n",
       "                                                                                     ('@kvg:type',\n",
       "                                                                                      '㇒'),\n",
       "                                                                                     ('@d',\n",
       "                                                                                      'M45.99,16.14c0.06,0.38-0.2,1.85-0.62,2.27c-3.75,3.71-9.5,7.96-21.56,13.8'),\n",
       "                                                                                     ('@xmlns:kvg',\n",
       "                                                                                      'http://kanjivg.tagaini.net')]))]),\n",
       "                                                          OrderedDict([('@id',\n",
       "                                                                        'kvg:06211-g2'),\n",
       "                                                                       ('@kvg:element',\n",
       "                                                                        '戈'),\n",
       "                                                                       ('@kvg:part',\n",
       "                                                                        '1'),\n",
       "                                                                       ('@kvg:radical',\n",
       "                                                                        'tradit'),\n",
       "                                                                       ('@xmlns:kvg',\n",
       "                                                                        'http://kanjivg.tagaini.net'),\n",
       "                                                                       ('g',\n",
       "                                                                        OrderedDict([('@id',\n",
       "                                                                                      'kvg:06211-g3'),\n",
       "                                                                                     ('@kvg:element',\n",
       "                                                                                      '弋'),\n",
       "                                                                                     ('@kvg:part',\n",
       "                                                                                      '1'),\n",
       "                                                                                     ('@xmlns:kvg',\n",
       "                                                                                      'http://kanjivg.tagaini.net'),\n",
       "                                                                                     ('path',\n",
       "                                                                                      OrderedDict([('@id',\n",
       "                                                                                                    'kvg:06211-s2'),\n",
       "                                                                                                   ('@kvg:type',\n",
       "                                                                                                    '㇐'),\n",
       "                                                                                                   ('@d',\n",
       "                                                                                                    'M15.75,44.95c2.88,0.68,5.82,0.43,8.52,0.1c9.61-1.17,43.59-6.49,60.24-7.8c3.07-0.24,5.97-0.35,9,0.3'),\n",
       "                                                                                                   ('@xmlns:kvg',\n",
       "                                                                                                    'http://kanjivg.tagaini.net')]))]))]),\n",
       "                                                          OrderedDict([('@id',\n",
       "                                                                        'kvg:06211-g4'),\n",
       "                                                                       ('@kvg:element',\n",
       "                                                                        '亅'),\n",
       "                                                                       ('@xmlns:kvg',\n",
       "                                                                        'http://kanjivg.tagaini.net'),\n",
       "                                                                       ('path',\n",
       "                                                                        OrderedDict([('@id',\n",
       "                                                                                      'kvg:06211-s3'),\n",
       "                                                                                     ('@kvg:type',\n",
       "                                                                                      '㇚'),\n",
       "                                                                                     ('@d',\n",
       "                                                                                      'M39.02,27.33c0.83,0.83,1.51,2.04,1.51,4.27c0,14.56-0.01,52.4-0.01,58.37c0,11.78-5.71,1.75-7.21,0.5'),\n",
       "                                                                                     ('@xmlns:kvg',\n",
       "                                                                                      'http://kanjivg.tagaini.net')]))]),\n",
       "                                                          OrderedDict([('@id',\n",
       "                                                                        'kvg:06211-g5'),\n",
       "                                                                       ('@kvg:element',\n",
       "                                                                        '戈'),\n",
       "                                                                       ('@kvg:part',\n",
       "                                                                        '2'),\n",
       "                                                                       ('@kvg:radical',\n",
       "                                                                        'tradit'),\n",
       "                                                                       ('@xmlns:kvg',\n",
       "                                                                        'http://kanjivg.tagaini.net'),\n",
       "                                                                       ('path',\n",
       "                                                                        OrderedDict([('@id',\n",
       "                                                                                      'kvg:06211-s5'),\n",
       "                                                                                     ('@kvg:type',\n",
       "                                                                                      '㇂'),\n",
       "                                                                                     ('@d',\n",
       "                                                                                      'M60,12.25c1.12,1.38,1.5,3.38,1.74,6.29c2.89,35.21,8.89,61.71,29.79,75.88c5.93,4.02,6.23,2.08,4.9-5.59'),\n",
       "                                                                                     ('@xmlns:kvg',\n",
       "                                                                                      'http://kanjivg.tagaini.net')])),\n",
       "                                                                       ('g',\n",
       "                                                                        [OrderedDict([('@id',\n",
       "                                                                                       'kvg:06211-g6'),\n",
       "                                                                                      ('@kvg:element',\n",
       "                                                                                       '丿'),\n",
       "                                                                                      ('@xmlns:kvg',\n",
       "                                                                                       'http://kanjivg.tagaini.net'),\n",
       "                                                                                      ('path',\n",
       "                                                                                       OrderedDict([('@id',\n",
       "                                                                                                     'kvg:06211-s6'),\n",
       "                                                                                                    ('@kvg:type',\n",
       "                                                                                                     '㇒'),\n",
       "                                                                                                    ('@d',\n",
       "                                                                                                     'M84.21,47.14c0.09,1,0.08,2.39-0.43,3.78c-3.28,8.82-13.86,27.11-31.47,38.54'),\n",
       "                                                                                                    ('@xmlns:kvg',\n",
       "                                                                                                     'http://kanjivg.tagaini.net')]))]),\n",
       "                                                                         OrderedDict([('@id',\n",
       "                                                                                       'kvg:06211-g7'),\n",
       "                                                                                      ('@kvg:element',\n",
       "                                                                                       '弋'),\n",
       "                                                                                      ('@kvg:part',\n",
       "                                                                                       '2'),\n",
       "                                                                                      ('@xmlns:kvg',\n",
       "                                                                                       'http://kanjivg.tagaini.net'),\n",
       "                                                                                      ('g',\n",
       "                                                                                       OrderedDict([('@id',\n",
       "                                                                                                     'kvg:06211-g8'),\n",
       "                                                                                                    ('@kvg:element',\n",
       "                                                                                                     '丶'),\n",
       "                                                                                                    ('@xmlns:kvg',\n",
       "                                                                                                     'http://kanjivg.tagaini.net'),\n",
       "                                                                                                    ('path',\n",
       "                                                                                                     OrderedDict([('@id',\n",
       "                                                                                                                   'kvg:06211-s7'),\n",
       "                                                                                                                  ('@kvg:type',\n",
       "                                                                                                                   '㇔'),\n",
       "                                                                                                                  ('@d',\n",
       "                                                                                                                   'M80.88,16.62c3.22,1.82,8.37,6,9.88,9.12'),\n",
       "                                                                                                                  ('@xmlns:kvg',\n",
       "                                                                                                                   'http://kanjivg.tagaini.net')]))]))])])])]),\n",
       "                                                        ('path',\n",
       "                                                         OrderedDict([('@id',\n",
       "                                                                       'kvg:06211-s4'),\n",
       "                                                                      ('@kvg:type',\n",
       "                                                                       '㇀'),\n",
       "                                                                      ('@d',\n",
       "                                                                       'M15.62,74.5c1.38,0.88,3.03,0.67,4.69-0.35c1.62-1,21.43-13.52,29.93-19.15'),\n",
       "                                                                      ('@xmlns:kvg',\n",
       "                                                                       'http://kanjivg.tagaini.net')]))]))]),\n",
       "                             OrderedDict([('@id', 'kvg:StrokeNumbers_06211'),\n",
       "                                          ('@style',\n",
       "                                           'font-size:8;fill:#808080'),\n",
       "                                          ('@xmlns:kvg',\n",
       "                                           'http://kanjivg.tagaini.net'),\n",
       "                                          ('text',\n",
       "                                           [OrderedDict([('@transform',\n",
       "                                                          'matrix(1 0 0 1 38.50 16.50)'),\n",
       "                                                         ('#text', '1')]),\n",
       "                                            OrderedDict([('@transform',\n",
       "                                                          'matrix(1 0 0 1 8.25 46.50)'),\n",
       "                                                         ('#text', '2')]),\n",
       "                                            OrderedDict([('@transform',\n",
       "                                                          'matrix(1 0 0 1 33.75 37.63)'),\n",
       "                                                         ('#text', '3')]),\n",
       "                                            OrderedDict([('@transform',\n",
       "                                                          'matrix(1 0 0 1 7.50 77.50)'),\n",
       "                                                         ('#text', '4')]),\n",
       "                                            OrderedDict([('@transform',\n",
       "                                                          'matrix(1 0 0 1 50.50 12.50)'),\n",
       "                                                         ('#text', '5')]),\n",
       "                                            OrderedDict([('@transform',\n",
       "                                                          'matrix(1 0 0 1 76.75 50.63)'),\n",
       "                                                         ('#text', '6')]),\n",
       "                                            OrderedDict([('@transform',\n",
       "                                                          'matrix(1 0 0 1 73.50 17.50)'),\n",
       "                                                         ('#text',\n",
       "                                                          '7')])])])])]))])"
      ]
     },
     "execution_count": 7,
     "metadata": {},
     "output_type": "execute_result"
    }
   ],
   "source": [
    "kdict"
   ]
  },
  {
   "cell_type": "code",
   "execution_count": 8,
   "metadata": {
    "collapsed": true
   },
   "outputs": [],
   "source": [
    "import os"
   ]
  },
  {
   "cell_type": "code",
   "execution_count": 9,
   "metadata": {
    "collapsed": true
   },
   "outputs": [],
   "source": [
    "svg = kdict['svg']"
   ]
  },
  {
   "cell_type": "code",
   "execution_count": 10,
   "metadata": {
    "collapsed": false
   },
   "outputs": [
    {
     "data": {
      "text/plain": [
       "OrderedDict([('@xmlns', 'http://www.w3.org/2000/svg'),\n",
       "             ('@width', '300'),\n",
       "             ('@height', '300'),\n",
       "             ('@viewBox', '0 0 109 109'),\n",
       "             ('g',\n",
       "              [OrderedDict([('@id', 'kvg:StrokePaths_06211'),\n",
       "                            ('@style',\n",
       "                             'fill:none;stroke:#000000;stroke-width:3;stroke-linecap:round;stroke-linejoin:round;'),\n",
       "                            ('@xmlns:kvg', 'http://kanjivg.tagaini.net'),\n",
       "                            ('g',\n",
       "                             OrderedDict([('@id', 'kvg:06211'),\n",
       "                                          ('@kvg:element', '我'),\n",
       "                                          ('@xmlns:kvg',\n",
       "                                           'http://kanjivg.tagaini.net'),\n",
       "                                          ('g',\n",
       "                                           [OrderedDict([('@id',\n",
       "                                                          'kvg:06211-g1'),\n",
       "                                                         ('@kvg:element', '丿'),\n",
       "                                                         ('@kvg:radical',\n",
       "                                                          'nelson'),\n",
       "                                                         ('@xmlns:kvg',\n",
       "                                                          'http://kanjivg.tagaini.net'),\n",
       "                                                         ('path',\n",
       "                                                          OrderedDict([('@id',\n",
       "                                                                        'kvg:06211-s1'),\n",
       "                                                                       ('@kvg:type',\n",
       "                                                                        '㇒'),\n",
       "                                                                       ('@d',\n",
       "                                                                        'M45.99,16.14c0.06,0.38-0.2,1.85-0.62,2.27c-3.75,3.71-9.5,7.96-21.56,13.8'),\n",
       "                                                                       ('@xmlns:kvg',\n",
       "                                                                        'http://kanjivg.tagaini.net')]))]),\n",
       "                                            OrderedDict([('@id',\n",
       "                                                          'kvg:06211-g2'),\n",
       "                                                         ('@kvg:element', '戈'),\n",
       "                                                         ('@kvg:part', '1'),\n",
       "                                                         ('@kvg:radical',\n",
       "                                                          'tradit'),\n",
       "                                                         ('@xmlns:kvg',\n",
       "                                                          'http://kanjivg.tagaini.net'),\n",
       "                                                         ('g',\n",
       "                                                          OrderedDict([('@id',\n",
       "                                                                        'kvg:06211-g3'),\n",
       "                                                                       ('@kvg:element',\n",
       "                                                                        '弋'),\n",
       "                                                                       ('@kvg:part',\n",
       "                                                                        '1'),\n",
       "                                                                       ('@xmlns:kvg',\n",
       "                                                                        'http://kanjivg.tagaini.net'),\n",
       "                                                                       ('path',\n",
       "                                                                        OrderedDict([('@id',\n",
       "                                                                                      'kvg:06211-s2'),\n",
       "                                                                                     ('@kvg:type',\n",
       "                                                                                      '㇐'),\n",
       "                                                                                     ('@d',\n",
       "                                                                                      'M15.75,44.95c2.88,0.68,5.82,0.43,8.52,0.1c9.61-1.17,43.59-6.49,60.24-7.8c3.07-0.24,5.97-0.35,9,0.3'),\n",
       "                                                                                     ('@xmlns:kvg',\n",
       "                                                                                      'http://kanjivg.tagaini.net')]))]))]),\n",
       "                                            OrderedDict([('@id',\n",
       "                                                          'kvg:06211-g4'),\n",
       "                                                         ('@kvg:element', '亅'),\n",
       "                                                         ('@xmlns:kvg',\n",
       "                                                          'http://kanjivg.tagaini.net'),\n",
       "                                                         ('path',\n",
       "                                                          OrderedDict([('@id',\n",
       "                                                                        'kvg:06211-s3'),\n",
       "                                                                       ('@kvg:type',\n",
       "                                                                        '㇚'),\n",
       "                                                                       ('@d',\n",
       "                                                                        'M39.02,27.33c0.83,0.83,1.51,2.04,1.51,4.27c0,14.56-0.01,52.4-0.01,58.37c0,11.78-5.71,1.75-7.21,0.5'),\n",
       "                                                                       ('@xmlns:kvg',\n",
       "                                                                        'http://kanjivg.tagaini.net')]))]),\n",
       "                                            OrderedDict([('@id',\n",
       "                                                          'kvg:06211-g5'),\n",
       "                                                         ('@kvg:element', '戈'),\n",
       "                                                         ('@kvg:part', '2'),\n",
       "                                                         ('@kvg:radical',\n",
       "                                                          'tradit'),\n",
       "                                                         ('@xmlns:kvg',\n",
       "                                                          'http://kanjivg.tagaini.net'),\n",
       "                                                         ('path',\n",
       "                                                          OrderedDict([('@id',\n",
       "                                                                        'kvg:06211-s5'),\n",
       "                                                                       ('@kvg:type',\n",
       "                                                                        '㇂'),\n",
       "                                                                       ('@d',\n",
       "                                                                        'M60,12.25c1.12,1.38,1.5,3.38,1.74,6.29c2.89,35.21,8.89,61.71,29.79,75.88c5.93,4.02,6.23,2.08,4.9-5.59'),\n",
       "                                                                       ('@xmlns:kvg',\n",
       "                                                                        'http://kanjivg.tagaini.net')])),\n",
       "                                                         ('g',\n",
       "                                                          [OrderedDict([('@id',\n",
       "                                                                         'kvg:06211-g6'),\n",
       "                                                                        ('@kvg:element',\n",
       "                                                                         '丿'),\n",
       "                                                                        ('@xmlns:kvg',\n",
       "                                                                         'http://kanjivg.tagaini.net'),\n",
       "                                                                        ('path',\n",
       "                                                                         OrderedDict([('@id',\n",
       "                                                                                       'kvg:06211-s6'),\n",
       "                                                                                      ('@kvg:type',\n",
       "                                                                                       '㇒'),\n",
       "                                                                                      ('@d',\n",
       "                                                                                       'M84.21,47.14c0.09,1,0.08,2.39-0.43,3.78c-3.28,8.82-13.86,27.11-31.47,38.54'),\n",
       "                                                                                      ('@xmlns:kvg',\n",
       "                                                                                       'http://kanjivg.tagaini.net')]))]),\n",
       "                                                           OrderedDict([('@id',\n",
       "                                                                         'kvg:06211-g7'),\n",
       "                                                                        ('@kvg:element',\n",
       "                                                                         '弋'),\n",
       "                                                                        ('@kvg:part',\n",
       "                                                                         '2'),\n",
       "                                                                        ('@xmlns:kvg',\n",
       "                                                                         'http://kanjivg.tagaini.net'),\n",
       "                                                                        ('g',\n",
       "                                                                         OrderedDict([('@id',\n",
       "                                                                                       'kvg:06211-g8'),\n",
       "                                                                                      ('@kvg:element',\n",
       "                                                                                       '丶'),\n",
       "                                                                                      ('@xmlns:kvg',\n",
       "                                                                                       'http://kanjivg.tagaini.net'),\n",
       "                                                                                      ('path',\n",
       "                                                                                       OrderedDict([('@id',\n",
       "                                                                                                     'kvg:06211-s7'),\n",
       "                                                                                                    ('@kvg:type',\n",
       "                                                                                                     '㇔'),\n",
       "                                                                                                    ('@d',\n",
       "                                                                                                     'M80.88,16.62c3.22,1.82,8.37,6,9.88,9.12'),\n",
       "                                                                                                    ('@xmlns:kvg',\n",
       "                                                                                                     'http://kanjivg.tagaini.net')]))]))])])])]),\n",
       "                                          ('path',\n",
       "                                           OrderedDict([('@id',\n",
       "                                                         'kvg:06211-s4'),\n",
       "                                                        ('@kvg:type', '㇀'),\n",
       "                                                        ('@d',\n",
       "                                                         'M15.62,74.5c1.38,0.88,3.03,0.67,4.69-0.35c1.62-1,21.43-13.52,29.93-19.15'),\n",
       "                                                        ('@xmlns:kvg',\n",
       "                                                         'http://kanjivg.tagaini.net')]))]))]),\n",
       "               OrderedDict([('@id', 'kvg:StrokeNumbers_06211'),\n",
       "                            ('@style', 'font-size:8;fill:#808080'),\n",
       "                            ('@xmlns:kvg', 'http://kanjivg.tagaini.net'),\n",
       "                            ('text',\n",
       "                             [OrderedDict([('@transform',\n",
       "                                            'matrix(1 0 0 1 38.50 16.50)'),\n",
       "                                           ('#text', '1')]),\n",
       "                              OrderedDict([('@transform',\n",
       "                                            'matrix(1 0 0 1 8.25 46.50)'),\n",
       "                                           ('#text', '2')]),\n",
       "                              OrderedDict([('@transform',\n",
       "                                            'matrix(1 0 0 1 33.75 37.63)'),\n",
       "                                           ('#text', '3')]),\n",
       "                              OrderedDict([('@transform',\n",
       "                                            'matrix(1 0 0 1 7.50 77.50)'),\n",
       "                                           ('#text', '4')]),\n",
       "                              OrderedDict([('@transform',\n",
       "                                            'matrix(1 0 0 1 50.50 12.50)'),\n",
       "                                           ('#text', '5')]),\n",
       "                              OrderedDict([('@transform',\n",
       "                                            'matrix(1 0 0 1 76.75 50.63)'),\n",
       "                                           ('#text', '6')]),\n",
       "                              OrderedDict([('@transform',\n",
       "                                            'matrix(1 0 0 1 73.50 17.50)'),\n",
       "                                           ('#text', '7')])])])])])"
      ]
     },
     "execution_count": 10,
     "metadata": {},
     "output_type": "execute_result"
    }
   ],
   "source": [
    "svg\n"
   ]
  },
  {
   "cell_type": "code",
   "execution_count": 11,
   "metadata": {
    "collapsed": false
   },
   "outputs": [
    {
     "data": {
      "text/plain": [
       "[OrderedDict([('@id', 'kvg:StrokePaths_06211'),\n",
       "              ('@style',\n",
       "               'fill:none;stroke:#000000;stroke-width:3;stroke-linecap:round;stroke-linejoin:round;'),\n",
       "              ('@xmlns:kvg', 'http://kanjivg.tagaini.net'),\n",
       "              ('g',\n",
       "               OrderedDict([('@id', 'kvg:06211'),\n",
       "                            ('@kvg:element', '我'),\n",
       "                            ('@xmlns:kvg', 'http://kanjivg.tagaini.net'),\n",
       "                            ('g',\n",
       "                             [OrderedDict([('@id', 'kvg:06211-g1'),\n",
       "                                           ('@kvg:element', '丿'),\n",
       "                                           ('@kvg:radical', 'nelson'),\n",
       "                                           ('@xmlns:kvg',\n",
       "                                            'http://kanjivg.tagaini.net'),\n",
       "                                           ('path',\n",
       "                                            OrderedDict([('@id',\n",
       "                                                          'kvg:06211-s1'),\n",
       "                                                         ('@kvg:type', '㇒'),\n",
       "                                                         ('@d',\n",
       "                                                          'M45.99,16.14c0.06,0.38-0.2,1.85-0.62,2.27c-3.75,3.71-9.5,7.96-21.56,13.8'),\n",
       "                                                         ('@xmlns:kvg',\n",
       "                                                          'http://kanjivg.tagaini.net')]))]),\n",
       "                              OrderedDict([('@id', 'kvg:06211-g2'),\n",
       "                                           ('@kvg:element', '戈'),\n",
       "                                           ('@kvg:part', '1'),\n",
       "                                           ('@kvg:radical', 'tradit'),\n",
       "                                           ('@xmlns:kvg',\n",
       "                                            'http://kanjivg.tagaini.net'),\n",
       "                                           ('g',\n",
       "                                            OrderedDict([('@id',\n",
       "                                                          'kvg:06211-g3'),\n",
       "                                                         ('@kvg:element', '弋'),\n",
       "                                                         ('@kvg:part', '1'),\n",
       "                                                         ('@xmlns:kvg',\n",
       "                                                          'http://kanjivg.tagaini.net'),\n",
       "                                                         ('path',\n",
       "                                                          OrderedDict([('@id',\n",
       "                                                                        'kvg:06211-s2'),\n",
       "                                                                       ('@kvg:type',\n",
       "                                                                        '㇐'),\n",
       "                                                                       ('@d',\n",
       "                                                                        'M15.75,44.95c2.88,0.68,5.82,0.43,8.52,0.1c9.61-1.17,43.59-6.49,60.24-7.8c3.07-0.24,5.97-0.35,9,0.3'),\n",
       "                                                                       ('@xmlns:kvg',\n",
       "                                                                        'http://kanjivg.tagaini.net')]))]))]),\n",
       "                              OrderedDict([('@id', 'kvg:06211-g4'),\n",
       "                                           ('@kvg:element', '亅'),\n",
       "                                           ('@xmlns:kvg',\n",
       "                                            'http://kanjivg.tagaini.net'),\n",
       "                                           ('path',\n",
       "                                            OrderedDict([('@id',\n",
       "                                                          'kvg:06211-s3'),\n",
       "                                                         ('@kvg:type', '㇚'),\n",
       "                                                         ('@d',\n",
       "                                                          'M39.02,27.33c0.83,0.83,1.51,2.04,1.51,4.27c0,14.56-0.01,52.4-0.01,58.37c0,11.78-5.71,1.75-7.21,0.5'),\n",
       "                                                         ('@xmlns:kvg',\n",
       "                                                          'http://kanjivg.tagaini.net')]))]),\n",
       "                              OrderedDict([('@id', 'kvg:06211-g5'),\n",
       "                                           ('@kvg:element', '戈'),\n",
       "                                           ('@kvg:part', '2'),\n",
       "                                           ('@kvg:radical', 'tradit'),\n",
       "                                           ('@xmlns:kvg',\n",
       "                                            'http://kanjivg.tagaini.net'),\n",
       "                                           ('path',\n",
       "                                            OrderedDict([('@id',\n",
       "                                                          'kvg:06211-s5'),\n",
       "                                                         ('@kvg:type', '㇂'),\n",
       "                                                         ('@d',\n",
       "                                                          'M60,12.25c1.12,1.38,1.5,3.38,1.74,6.29c2.89,35.21,8.89,61.71,29.79,75.88c5.93,4.02,6.23,2.08,4.9-5.59'),\n",
       "                                                         ('@xmlns:kvg',\n",
       "                                                          'http://kanjivg.tagaini.net')])),\n",
       "                                           ('g',\n",
       "                                            [OrderedDict([('@id',\n",
       "                                                           'kvg:06211-g6'),\n",
       "                                                          ('@kvg:element',\n",
       "                                                           '丿'),\n",
       "                                                          ('@xmlns:kvg',\n",
       "                                                           'http://kanjivg.tagaini.net'),\n",
       "                                                          ('path',\n",
       "                                                           OrderedDict([('@id',\n",
       "                                                                         'kvg:06211-s6'),\n",
       "                                                                        ('@kvg:type',\n",
       "                                                                         '㇒'),\n",
       "                                                                        ('@d',\n",
       "                                                                         'M84.21,47.14c0.09,1,0.08,2.39-0.43,3.78c-3.28,8.82-13.86,27.11-31.47,38.54'),\n",
       "                                                                        ('@xmlns:kvg',\n",
       "                                                                         'http://kanjivg.tagaini.net')]))]),\n",
       "                                             OrderedDict([('@id',\n",
       "                                                           'kvg:06211-g7'),\n",
       "                                                          ('@kvg:element',\n",
       "                                                           '弋'),\n",
       "                                                          ('@kvg:part', '2'),\n",
       "                                                          ('@xmlns:kvg',\n",
       "                                                           'http://kanjivg.tagaini.net'),\n",
       "                                                          ('g',\n",
       "                                                           OrderedDict([('@id',\n",
       "                                                                         'kvg:06211-g8'),\n",
       "                                                                        ('@kvg:element',\n",
       "                                                                         '丶'),\n",
       "                                                                        ('@xmlns:kvg',\n",
       "                                                                         'http://kanjivg.tagaini.net'),\n",
       "                                                                        ('path',\n",
       "                                                                         OrderedDict([('@id',\n",
       "                                                                                       'kvg:06211-s7'),\n",
       "                                                                                      ('@kvg:type',\n",
       "                                                                                       '㇔'),\n",
       "                                                                                      ('@d',\n",
       "                                                                                       'M80.88,16.62c3.22,1.82,8.37,6,9.88,9.12'),\n",
       "                                                                                      ('@xmlns:kvg',\n",
       "                                                                                       'http://kanjivg.tagaini.net')]))]))])])])]),\n",
       "                            ('path',\n",
       "                             OrderedDict([('@id', 'kvg:06211-s4'),\n",
       "                                          ('@kvg:type', '㇀'),\n",
       "                                          ('@d',\n",
       "                                           'M15.62,74.5c1.38,0.88,3.03,0.67,4.69-0.35c1.62-1,21.43-13.52,29.93-19.15'),\n",
       "                                          ('@xmlns:kvg',\n",
       "                                           'http://kanjivg.tagaini.net')]))]))]),\n",
       " OrderedDict([('@id', 'kvg:StrokeNumbers_06211'),\n",
       "              ('@style', 'font-size:8;fill:#808080'),\n",
       "              ('@xmlns:kvg', 'http://kanjivg.tagaini.net'),\n",
       "              ('text',\n",
       "               [OrderedDict([('@transform', 'matrix(1 0 0 1 38.50 16.50)'),\n",
       "                             ('#text', '1')]),\n",
       "                OrderedDict([('@transform', 'matrix(1 0 0 1 8.25 46.50)'),\n",
       "                             ('#text', '2')]),\n",
       "                OrderedDict([('@transform', 'matrix(1 0 0 1 33.75 37.63)'),\n",
       "                             ('#text', '3')]),\n",
       "                OrderedDict([('@transform', 'matrix(1 0 0 1 7.50 77.50)'),\n",
       "                             ('#text', '4')]),\n",
       "                OrderedDict([('@transform', 'matrix(1 0 0 1 50.50 12.50)'),\n",
       "                             ('#text', '5')]),\n",
       "                OrderedDict([('@transform', 'matrix(1 0 0 1 76.75 50.63)'),\n",
       "                             ('#text', '6')]),\n",
       "                OrderedDict([('@transform', 'matrix(1 0 0 1 73.50 17.50)'),\n",
       "                             ('#text', '7')])])])]"
      ]
     },
     "execution_count": 11,
     "metadata": {},
     "output_type": "execute_result"
    }
   ],
   "source": [
    "svg['g']"
   ]
  },
  {
   "cell_type": "code",
   "execution_count": 13,
   "metadata": {
    "collapsed": false
   },
   "outputs": [
    {
     "data": {
      "text/plain": [
       "2"
      ]
     },
     "execution_count": 13,
     "metadata": {},
     "output_type": "execute_result"
    }
   ],
   "source": [
    "len(svg['g'])"
   ]
  },
  {
   "cell_type": "code",
   "execution_count": 21,
   "metadata": {
    "collapsed": false
   },
   "outputs": [],
   "source": [
    "g = svg['g'][0]"
   ]
  },
  {
   "cell_type": "code",
   "execution_count": 64,
   "metadata": {
    "collapsed": false
   },
   "outputs": [],
   "source": [
    "p1 = g['g']['g'][0]['path']"
   ]
  },
  {
   "cell_type": "code",
   "execution_count": 65,
   "metadata": {
    "collapsed": false
   },
   "outputs": [],
   "source": [
    "import types"
   ]
  },
  {
   "cell_type": "code",
   "execution_count": 34,
   "metadata": {
    "collapsed": true
   },
   "outputs": [],
   "source": [
    "types."
   ]
  },
  {
   "cell_type": "code",
   "execution_count": 42,
   "metadata": {
    "collapsed": false
   },
   "outputs": [
    {
     "data": {
      "text/plain": [
       "OrderedDict([('@id', 'kvg:StrokePaths_06211'),\n",
       "             ('@style',\n",
       "              'fill:none;stroke:#000000;stroke-width:3;stroke-linecap:round;stroke-linejoin:round;'),\n",
       "             ('@xmlns:kvg', 'http://kanjivg.tagaini.net'),\n",
       "             ('g',\n",
       "              OrderedDict([('@id', 'kvg:06211'),\n",
       "                           ('@kvg:element', '我'),\n",
       "                           ('@xmlns:kvg', 'http://kanjivg.tagaini.net'),\n",
       "                           ('g',\n",
       "                            [OrderedDict([('@id', 'kvg:06211-g1'),\n",
       "                                          ('@kvg:element', '丿'),\n",
       "                                          ('@kvg:radical', 'nelson'),\n",
       "                                          ('@xmlns:kvg',\n",
       "                                           'http://kanjivg.tagaini.net'),\n",
       "                                          ('path',\n",
       "                                           OrderedDict([('@id',\n",
       "                                                         'kvg:06211-s1'),\n",
       "                                                        ('@kvg:type', '㇒'),\n",
       "                                                        ('@d',\n",
       "                                                         'M45.99,16.14c0.06,0.38-0.2,1.85-0.62,2.27c-3.75,3.71-9.5,7.96-21.56,13.8'),\n",
       "                                                        ('@xmlns:kvg',\n",
       "                                                         'http://kanjivg.tagaini.net'),\n",
       "                                                        ('@class', 'foo')]))]),\n",
       "                             OrderedDict([('@id', 'kvg:06211-g2'),\n",
       "                                          ('@kvg:element', '戈'),\n",
       "                                          ('@kvg:part', '1'),\n",
       "                                          ('@kvg:radical', 'tradit'),\n",
       "                                          ('@xmlns:kvg',\n",
       "                                           'http://kanjivg.tagaini.net'),\n",
       "                                          ('g',\n",
       "                                           OrderedDict([('@id',\n",
       "                                                         'kvg:06211-g3'),\n",
       "                                                        ('@kvg:element', '弋'),\n",
       "                                                        ('@kvg:part', '1'),\n",
       "                                                        ('@xmlns:kvg',\n",
       "                                                         'http://kanjivg.tagaini.net'),\n",
       "                                                        ('path',\n",
       "                                                         OrderedDict([('@id',\n",
       "                                                                       'kvg:06211-s2'),\n",
       "                                                                      ('@kvg:type',\n",
       "                                                                       '㇐'),\n",
       "                                                                      ('@d',\n",
       "                                                                       'M15.75,44.95c2.88,0.68,5.82,0.43,8.52,0.1c9.61-1.17,43.59-6.49,60.24-7.8c3.07-0.24,5.97-0.35,9,0.3'),\n",
       "                                                                      ('@xmlns:kvg',\n",
       "                                                                       'http://kanjivg.tagaini.net')]))]))]),\n",
       "                             OrderedDict([('@id', 'kvg:06211-g4'),\n",
       "                                          ('@kvg:element', '亅'),\n",
       "                                          ('@xmlns:kvg',\n",
       "                                           'http://kanjivg.tagaini.net'),\n",
       "                                          ('path',\n",
       "                                           OrderedDict([('@id',\n",
       "                                                         'kvg:06211-s3'),\n",
       "                                                        ('@kvg:type', '㇚'),\n",
       "                                                        ('@d',\n",
       "                                                         'M39.02,27.33c0.83,0.83,1.51,2.04,1.51,4.27c0,14.56-0.01,52.4-0.01,58.37c0,11.78-5.71,1.75-7.21,0.5'),\n",
       "                                                        ('@xmlns:kvg',\n",
       "                                                         'http://kanjivg.tagaini.net')]))]),\n",
       "                             OrderedDict([('@id', 'kvg:06211-g5'),\n",
       "                                          ('@kvg:element', '戈'),\n",
       "                                          ('@kvg:part', '2'),\n",
       "                                          ('@kvg:radical', 'tradit'),\n",
       "                                          ('@xmlns:kvg',\n",
       "                                           'http://kanjivg.tagaini.net'),\n",
       "                                          ('path',\n",
       "                                           OrderedDict([('@id',\n",
       "                                                         'kvg:06211-s5'),\n",
       "                                                        ('@kvg:type', '㇂'),\n",
       "                                                        ('@d',\n",
       "                                                         'M60,12.25c1.12,1.38,1.5,3.38,1.74,6.29c2.89,35.21,8.89,61.71,29.79,75.88c5.93,4.02,6.23,2.08,4.9-5.59'),\n",
       "                                                        ('@xmlns:kvg',\n",
       "                                                         'http://kanjivg.tagaini.net')])),\n",
       "                                          ('g',\n",
       "                                           [OrderedDict([('@id',\n",
       "                                                          'kvg:06211-g6'),\n",
       "                                                         ('@kvg:element', '丿'),\n",
       "                                                         ('@xmlns:kvg',\n",
       "                                                          'http://kanjivg.tagaini.net'),\n",
       "                                                         ('path',\n",
       "                                                          OrderedDict([('@id',\n",
       "                                                                        'kvg:06211-s6'),\n",
       "                                                                       ('@kvg:type',\n",
       "                                                                        '㇒'),\n",
       "                                                                       ('@d',\n",
       "                                                                        'M84.21,47.14c0.09,1,0.08,2.39-0.43,3.78c-3.28,8.82-13.86,27.11-31.47,38.54'),\n",
       "                                                                       ('@xmlns:kvg',\n",
       "                                                                        'http://kanjivg.tagaini.net')]))]),\n",
       "                                            OrderedDict([('@id',\n",
       "                                                          'kvg:06211-g7'),\n",
       "                                                         ('@kvg:element', '弋'),\n",
       "                                                         ('@kvg:part', '2'),\n",
       "                                                         ('@xmlns:kvg',\n",
       "                                                          'http://kanjivg.tagaini.net'),\n",
       "                                                         ('g',\n",
       "                                                          OrderedDict([('@id',\n",
       "                                                                        'kvg:06211-g8'),\n",
       "                                                                       ('@kvg:element',\n",
       "                                                                        '丶'),\n",
       "                                                                       ('@xmlns:kvg',\n",
       "                                                                        'http://kanjivg.tagaini.net'),\n",
       "                                                                       ('path',\n",
       "                                                                        OrderedDict([('@id',\n",
       "                                                                                      'kvg:06211-s7'),\n",
       "                                                                                     ('@kvg:type',\n",
       "                                                                                      '㇔'),\n",
       "                                                                                     ('@d',\n",
       "                                                                                      'M80.88,16.62c3.22,1.82,8.37,6,9.88,9.12'),\n",
       "                                                                                     ('@xmlns:kvg',\n",
       "                                                                                      'http://kanjivg.tagaini.net')]))]))])])])]),\n",
       "                           ('path',\n",
       "                            OrderedDict([('@id', 'kvg:06211-s4'),\n",
       "                                         ('@kvg:type', '㇀'),\n",
       "                                         ('@d',\n",
       "                                          'M15.62,74.5c1.38,0.88,3.03,0.67,4.69-0.35c1.62-1,21.43-13.52,29.93-19.15'),\n",
       "                                         ('@xmlns:kvg',\n",
       "                                          'http://kanjivg.tagaini.net')]))]))])"
      ]
     },
     "execution_count": 42,
     "metadata": {},
     "output_type": "execute_result"
    }
   ],
   "source": [
    "svg['g'][0]"
   ]
  },
  {
   "cell_type": "code",
   "execution_count": 68,
   "metadata": {
    "collapsed": false
   },
   "outputs": [],
   "source": [
    "    strokes = []\n",
    "    def _extract_strokes(svgd):\n",
    "        for k, v in svgd.items():\n",
    "            if k == 'path':\n",
    "                strokes.append(v)\n",
    "            elif isinstance(v, xmltodict.OrderedDict):\n",
    "                _extract_strokes(v)\n",
    "            elif isinstance(v, list):\n",
    "                for s_v in v:\n",
    "                    _extract_strokes(s_v)\n"
   ]
  },
  {
   "cell_type": "code",
   "execution_count": 69,
   "metadata": {
    "collapsed": false
   },
   "outputs": [],
   "source": [
    "_extract_strokes(g)"
   ]
  },
  {
   "cell_type": "code",
   "execution_count": 70,
   "metadata": {
    "collapsed": false
   },
   "outputs": [
    {
     "data": {
      "text/plain": [
       "[OrderedDict([('@id', 'kvg:06211-s1'),\n",
       "              ('@kvg:type', '㇒'),\n",
       "              ('@d',\n",
       "               'M45.99,16.14c0.06,0.38-0.2,1.85-0.62,2.27c-3.75,3.71-9.5,7.96-21.56,13.8'),\n",
       "              ('@xmlns:kvg', 'http://kanjivg.tagaini.net'),\n",
       "              ('@class', 'foo')]),\n",
       " OrderedDict([('@id', 'kvg:06211-s2'),\n",
       "              ('@kvg:type', '㇐'),\n",
       "              ('@d',\n",
       "               'M15.75,44.95c2.88,0.68,5.82,0.43,8.52,0.1c9.61-1.17,43.59-6.49,60.24-7.8c3.07-0.24,5.97-0.35,9,0.3'),\n",
       "              ('@xmlns:kvg', 'http://kanjivg.tagaini.net')]),\n",
       " OrderedDict([('@id', 'kvg:06211-s3'),\n",
       "              ('@kvg:type', '㇚'),\n",
       "              ('@d',\n",
       "               'M39.02,27.33c0.83,0.83,1.51,2.04,1.51,4.27c0,14.56-0.01,52.4-0.01,58.37c0,11.78-5.71,1.75-7.21,0.5'),\n",
       "              ('@xmlns:kvg', 'http://kanjivg.tagaini.net')]),\n",
       " OrderedDict([('@id', 'kvg:06211-s5'),\n",
       "              ('@kvg:type', '㇂'),\n",
       "              ('@d',\n",
       "               'M60,12.25c1.12,1.38,1.5,3.38,1.74,6.29c2.89,35.21,8.89,61.71,29.79,75.88c5.93,4.02,6.23,2.08,4.9-5.59'),\n",
       "              ('@xmlns:kvg', 'http://kanjivg.tagaini.net')]),\n",
       " OrderedDict([('@id', 'kvg:06211-s6'),\n",
       "              ('@kvg:type', '㇒'),\n",
       "              ('@d',\n",
       "               'M84.21,47.14c0.09,1,0.08,2.39-0.43,3.78c-3.28,8.82-13.86,27.11-31.47,38.54'),\n",
       "              ('@xmlns:kvg', 'http://kanjivg.tagaini.net')]),\n",
       " OrderedDict([('@id', 'kvg:06211-s7'),\n",
       "              ('@kvg:type', '㇔'),\n",
       "              ('@d', 'M80.88,16.62c3.22,1.82,8.37,6,9.88,9.12'),\n",
       "              ('@xmlns:kvg', 'http://kanjivg.tagaini.net')]),\n",
       " OrderedDict([('@id', 'kvg:06211-s4'),\n",
       "              ('@kvg:type', '㇀'),\n",
       "              ('@d',\n",
       "               'M15.62,74.5c1.38,0.88,3.03,0.67,4.69-0.35c1.62-1,21.43-13.52,29.93-19.15'),\n",
       "              ('@xmlns:kvg', 'http://kanjivg.tagaini.net')])]"
      ]
     },
     "execution_count": 70,
     "metadata": {},
     "output_type": "execute_result"
    }
   ],
   "source": [
    "strokes"
   ]
  },
  {
   "cell_type": "code",
   "execution_count": 71,
   "metadata": {
    "collapsed": false
   },
   "outputs": [
    {
     "data": {
      "text/plain": [
       "OrderedDict([('svg',\n",
       "              OrderedDict([('@xmlns', 'http://www.w3.org/2000/svg'),\n",
       "                           ('@width', '300'),\n",
       "                           ('@height', '300'),\n",
       "                           ('@viewBox', '0 0 109 109'),\n",
       "                           ('g',\n",
       "                            [OrderedDict([('@id', 'kvg:StrokePaths_06211'),\n",
       "                                          ('@style',\n",
       "                                           'fill:none;stroke:#000000;stroke-width:3;stroke-linecap:round;stroke-linejoin:round;'),\n",
       "                                          ('@xmlns:kvg',\n",
       "                                           'http://kanjivg.tagaini.net'),\n",
       "                                          ('g',\n",
       "                                           OrderedDict([('@id', 'kvg:06211'),\n",
       "                                                        ('@kvg:element', '我'),\n",
       "                                                        ('@xmlns:kvg',\n",
       "                                                         'http://kanjivg.tagaini.net'),\n",
       "                                                        ('g',\n",
       "                                                         [OrderedDict([('@id',\n",
       "                                                                        'kvg:06211-g1'),\n",
       "                                                                       ('@kvg:element',\n",
       "                                                                        '丿'),\n",
       "                                                                       ('@kvg:radical',\n",
       "                                                                        'nelson'),\n",
       "                                                                       ('@xmlns:kvg',\n",
       "                                                                        'http://kanjivg.tagaini.net'),\n",
       "                                                                       ('path',\n",
       "                                                                        OrderedDict([('@id',\n",
       "                                                                                      'kvg:06211-s1'),\n",
       "                                                                                     ('@kvg:type',\n",
       "                                                                                      '㇒'),\n",
       "                                                                                     ('@d',\n",
       "                                                                                      'M45.99,16.14c0.06,0.38-0.2,1.85-0.62,2.27c-3.75,3.71-9.5,7.96-21.56,13.8'),\n",
       "                                                                                     ('@xmlns:kvg',\n",
       "                                                                                      'http://kanjivg.tagaini.net'),\n",
       "                                                                                     ('@class',\n",
       "                                                                                      'foo')]))]),\n",
       "                                                          OrderedDict([('@id',\n",
       "                                                                        'kvg:06211-g2'),\n",
       "                                                                       ('@kvg:element',\n",
       "                                                                        '戈'),\n",
       "                                                                       ('@kvg:part',\n",
       "                                                                        '1'),\n",
       "                                                                       ('@kvg:radical',\n",
       "                                                                        'tradit'),\n",
       "                                                                       ('@xmlns:kvg',\n",
       "                                                                        'http://kanjivg.tagaini.net'),\n",
       "                                                                       ('g',\n",
       "                                                                        OrderedDict([('@id',\n",
       "                                                                                      'kvg:06211-g3'),\n",
       "                                                                                     ('@kvg:element',\n",
       "                                                                                      '弋'),\n",
       "                                                                                     ('@kvg:part',\n",
       "                                                                                      '1'),\n",
       "                                                                                     ('@xmlns:kvg',\n",
       "                                                                                      'http://kanjivg.tagaini.net'),\n",
       "                                                                                     ('path',\n",
       "                                                                                      OrderedDict([('@id',\n",
       "                                                                                                    'kvg:06211-s2'),\n",
       "                                                                                                   ('@kvg:type',\n",
       "                                                                                                    '㇐'),\n",
       "                                                                                                   ('@d',\n",
       "                                                                                                    'M15.75,44.95c2.88,0.68,5.82,0.43,8.52,0.1c9.61-1.17,43.59-6.49,60.24-7.8c3.07-0.24,5.97-0.35,9,0.3'),\n",
       "                                                                                                   ('@xmlns:kvg',\n",
       "                                                                                                    'http://kanjivg.tagaini.net')]))]))]),\n",
       "                                                          OrderedDict([('@id',\n",
       "                                                                        'kvg:06211-g4'),\n",
       "                                                                       ('@kvg:element',\n",
       "                                                                        '亅'),\n",
       "                                                                       ('@xmlns:kvg',\n",
       "                                                                        'http://kanjivg.tagaini.net'),\n",
       "                                                                       ('path',\n",
       "                                                                        OrderedDict([('@id',\n",
       "                                                                                      'kvg:06211-s3'),\n",
       "                                                                                     ('@kvg:type',\n",
       "                                                                                      '㇚'),\n",
       "                                                                                     ('@d',\n",
       "                                                                                      'M39.02,27.33c0.83,0.83,1.51,2.04,1.51,4.27c0,14.56-0.01,52.4-0.01,58.37c0,11.78-5.71,1.75-7.21,0.5'),\n",
       "                                                                                     ('@xmlns:kvg',\n",
       "                                                                                      'http://kanjivg.tagaini.net')]))]),\n",
       "                                                          OrderedDict([('@id',\n",
       "                                                                        'kvg:06211-g5'),\n",
       "                                                                       ('@kvg:element',\n",
       "                                                                        '戈'),\n",
       "                                                                       ('@kvg:part',\n",
       "                                                                        '2'),\n",
       "                                                                       ('@kvg:radical',\n",
       "                                                                        'tradit'),\n",
       "                                                                       ('@xmlns:kvg',\n",
       "                                                                        'http://kanjivg.tagaini.net'),\n",
       "                                                                       ('path',\n",
       "                                                                        OrderedDict([('@id',\n",
       "                                                                                      'kvg:06211-s5'),\n",
       "                                                                                     ('@kvg:type',\n",
       "                                                                                      '㇂'),\n",
       "                                                                                     ('@d',\n",
       "                                                                                      'M60,12.25c1.12,1.38,1.5,3.38,1.74,6.29c2.89,35.21,8.89,61.71,29.79,75.88c5.93,4.02,6.23,2.08,4.9-5.59'),\n",
       "                                                                                     ('@xmlns:kvg',\n",
       "                                                                                      'http://kanjivg.tagaini.net')])),\n",
       "                                                                       ('g',\n",
       "                                                                        [OrderedDict([('@id',\n",
       "                                                                                       'kvg:06211-g6'),\n",
       "                                                                                      ('@kvg:element',\n",
       "                                                                                       '丿'),\n",
       "                                                                                      ('@xmlns:kvg',\n",
       "                                                                                       'http://kanjivg.tagaini.net'),\n",
       "                                                                                      ('path',\n",
       "                                                                                       OrderedDict([('@id',\n",
       "                                                                                                     'kvg:06211-s6'),\n",
       "                                                                                                    ('@kvg:type',\n",
       "                                                                                                     '㇒'),\n",
       "                                                                                                    ('@d',\n",
       "                                                                                                     'M84.21,47.14c0.09,1,0.08,2.39-0.43,3.78c-3.28,8.82-13.86,27.11-31.47,38.54'),\n",
       "                                                                                                    ('@xmlns:kvg',\n",
       "                                                                                                     'http://kanjivg.tagaini.net')]))]),\n",
       "                                                                         OrderedDict([('@id',\n",
       "                                                                                       'kvg:06211-g7'),\n",
       "                                                                                      ('@kvg:element',\n",
       "                                                                                       '弋'),\n",
       "                                                                                      ('@kvg:part',\n",
       "                                                                                       '2'),\n",
       "                                                                                      ('@xmlns:kvg',\n",
       "                                                                                       'http://kanjivg.tagaini.net'),\n",
       "                                                                                      ('g',\n",
       "                                                                                       OrderedDict([('@id',\n",
       "                                                                                                     'kvg:06211-g8'),\n",
       "                                                                                                    ('@kvg:element',\n",
       "                                                                                                     '丶'),\n",
       "                                                                                                    ('@xmlns:kvg',\n",
       "                                                                                                     'http://kanjivg.tagaini.net'),\n",
       "                                                                                                    ('path',\n",
       "                                                                                                     OrderedDict([('@id',\n",
       "                                                                                                                   'kvg:06211-s7'),\n",
       "                                                                                                                  ('@kvg:type',\n",
       "                                                                                                                   '㇔'),\n",
       "                                                                                                                  ('@d',\n",
       "                                                                                                                   'M80.88,16.62c3.22,1.82,8.37,6,9.88,9.12'),\n",
       "                                                                                                                  ('@xmlns:kvg',\n",
       "                                                                                                                   'http://kanjivg.tagaini.net')]))]))])])])]),\n",
       "                                                        ('path',\n",
       "                                                         OrderedDict([('@id',\n",
       "                                                                       'kvg:06211-s4'),\n",
       "                                                                      ('@kvg:type',\n",
       "                                                                       '㇀'),\n",
       "                                                                      ('@d',\n",
       "                                                                       'M15.62,74.5c1.38,0.88,3.03,0.67,4.69-0.35c1.62-1,21.43-13.52,29.93-19.15'),\n",
       "                                                                      ('@xmlns:kvg',\n",
       "                                                                       'http://kanjivg.tagaini.net')]))]))]),\n",
       "                             OrderedDict([('@id', 'kvg:StrokeNumbers_06211'),\n",
       "                                          ('@style',\n",
       "                                           'font-size:8;fill:#808080'),\n",
       "                                          ('@xmlns:kvg',\n",
       "                                           'http://kanjivg.tagaini.net'),\n",
       "                                          ('text',\n",
       "                                           [OrderedDict([('@transform',\n",
       "                                                          'matrix(1 0 0 1 38.50 16.50)'),\n",
       "                                                         ('#text', '1')]),\n",
       "                                            OrderedDict([('@transform',\n",
       "                                                          'matrix(1 0 0 1 8.25 46.50)'),\n",
       "                                                         ('#text', '2')]),\n",
       "                                            OrderedDict([('@transform',\n",
       "                                                          'matrix(1 0 0 1 33.75 37.63)'),\n",
       "                                                         ('#text', '3')]),\n",
       "                                            OrderedDict([('@transform',\n",
       "                                                          'matrix(1 0 0 1 7.50 77.50)'),\n",
       "                                                         ('#text', '4')]),\n",
       "                                            OrderedDict([('@transform',\n",
       "                                                          'matrix(1 0 0 1 50.50 12.50)'),\n",
       "                                                         ('#text', '5')]),\n",
       "                                            OrderedDict([('@transform',\n",
       "                                                          'matrix(1 0 0 1 76.75 50.63)'),\n",
       "                                                         ('#text', '6')]),\n",
       "                                            OrderedDict([('@transform',\n",
       "                                                          'matrix(1 0 0 1 73.50 17.50)'),\n",
       "                                                         ('#text',\n",
       "                                                          '7')])])])])]))])"
      ]
     },
     "execution_count": 71,
     "metadata": {},
     "output_type": "execute_result"
    }
   ],
   "source": [
    "kdict"
   ]
  },
  {
   "cell_type": "code",
   "execution_count": 74,
   "metadata": {
    "collapsed": false
   },
   "outputs": [],
   "source": [
    "import xmltodict"
   ]
  },
  {
   "cell_type": "code",
   "execution_count": 80,
   "metadata": {
    "collapsed": false
   },
   "outputs": [
    {
     "data": {
      "text/plain": [
       "'<?xml version=\"1.0\" encoding=\"utf-8\"?>\\n<path id=\"kvg:06211-s1\" kvg:type=\"㇒\" d=\"M45.99,16.14c0.06,0.38-0.2,1.85-0.62,2.27c-3.75,3.71-9.5,7.96-21.56,13.8\" xmlns:kvg=\"http://kanjivg.tagaini.net\" class=\"foo\"></path>'"
      ]
     },
     "execution_count": 80,
     "metadata": {},
     "output_type": "execute_result"
    }
   ],
   "source": [
    "xmltodict.unparse({'path': strokes[0]})"
   ]
  },
  {
   "cell_type": "code",
   "execution_count": 76,
   "metadata": {
    "collapsed": false
   },
   "outputs": [
    {
     "data": {
      "text/plain": [
       "5"
      ]
     },
     "execution_count": 76,
     "metadata": {},
     "output_type": "execute_result"
    }
   ],
   "source": [
    "len(strokes[0])"
   ]
  },
  {
   "cell_type": "code",
   "execution_count": 77,
   "metadata": {
    "collapsed": false
   },
   "outputs": [
    {
     "data": {
      "text/plain": [
       "5"
      ]
     },
     "execution_count": 77,
     "metadata": {},
     "output_type": "execute_result"
    }
   ],
   "source": [
    "len(svg)"
   ]
  },
  {
   "cell_type": "code",
   "execution_count": 78,
   "metadata": {
    "collapsed": false
   },
   "outputs": [
    {
     "data": {
      "text/plain": [
       "1"
      ]
     },
     "execution_count": 78,
     "metadata": {},
     "output_type": "execute_result"
    }
   ],
   "source": [
    "len(kdict)"
   ]
  },
  {
   "cell_type": "code",
   "execution_count": 79,
   "metadata": {
    "collapsed": false
   },
   "outputs": [
    {
     "data": {
      "text/plain": [
       "OrderedDict([('svg',\n",
       "              OrderedDict([('@xmlns', 'http://www.w3.org/2000/svg'),\n",
       "                           ('@width', '300'),\n",
       "                           ('@height', '300'),\n",
       "                           ('@viewBox', '0 0 109 109'),\n",
       "                           ('g',\n",
       "                            [OrderedDict([('@id', 'kvg:StrokePaths_06211'),\n",
       "                                          ('@style',\n",
       "                                           'fill:none;stroke:#000000;stroke-width:3;stroke-linecap:round;stroke-linejoin:round;'),\n",
       "                                          ('@xmlns:kvg',\n",
       "                                           'http://kanjivg.tagaini.net'),\n",
       "                                          ('g',\n",
       "                                           OrderedDict([('@id', 'kvg:06211'),\n",
       "                                                        ('@kvg:element', '我'),\n",
       "                                                        ('@xmlns:kvg',\n",
       "                                                         'http://kanjivg.tagaini.net'),\n",
       "                                                        ('g',\n",
       "                                                         [OrderedDict([('@id',\n",
       "                                                                        'kvg:06211-g1'),\n",
       "                                                                       ('@kvg:element',\n",
       "                                                                        '丿'),\n",
       "                                                                       ('@kvg:radical',\n",
       "                                                                        'nelson'),\n",
       "                                                                       ('@xmlns:kvg',\n",
       "                                                                        'http://kanjivg.tagaini.net'),\n",
       "                                                                       ('path',\n",
       "                                                                        OrderedDict([('@id',\n",
       "                                                                                      'kvg:06211-s1'),\n",
       "                                                                                     ('@kvg:type',\n",
       "                                                                                      '㇒'),\n",
       "                                                                                     ('@d',\n",
       "                                                                                      'M45.99,16.14c0.06,0.38-0.2,1.85-0.62,2.27c-3.75,3.71-9.5,7.96-21.56,13.8'),\n",
       "                                                                                     ('@xmlns:kvg',\n",
       "                                                                                      'http://kanjivg.tagaini.net'),\n",
       "                                                                                     ('@class',\n",
       "                                                                                      'foo')]))]),\n",
       "                                                          OrderedDict([('@id',\n",
       "                                                                        'kvg:06211-g2'),\n",
       "                                                                       ('@kvg:element',\n",
       "                                                                        '戈'),\n",
       "                                                                       ('@kvg:part',\n",
       "                                                                        '1'),\n",
       "                                                                       ('@kvg:radical',\n",
       "                                                                        'tradit'),\n",
       "                                                                       ('@xmlns:kvg',\n",
       "                                                                        'http://kanjivg.tagaini.net'),\n",
       "                                                                       ('g',\n",
       "                                                                        OrderedDict([('@id',\n",
       "                                                                                      'kvg:06211-g3'),\n",
       "                                                                                     ('@kvg:element',\n",
       "                                                                                      '弋'),\n",
       "                                                                                     ('@kvg:part',\n",
       "                                                                                      '1'),\n",
       "                                                                                     ('@xmlns:kvg',\n",
       "                                                                                      'http://kanjivg.tagaini.net'),\n",
       "                                                                                     ('path',\n",
       "                                                                                      OrderedDict([('@id',\n",
       "                                                                                                    'kvg:06211-s2'),\n",
       "                                                                                                   ('@kvg:type',\n",
       "                                                                                                    '㇐'),\n",
       "                                                                                                   ('@d',\n",
       "                                                                                                    'M15.75,44.95c2.88,0.68,5.82,0.43,8.52,0.1c9.61-1.17,43.59-6.49,60.24-7.8c3.07-0.24,5.97-0.35,9,0.3'),\n",
       "                                                                                                   ('@xmlns:kvg',\n",
       "                                                                                                    'http://kanjivg.tagaini.net')]))]))]),\n",
       "                                                          OrderedDict([('@id',\n",
       "                                                                        'kvg:06211-g4'),\n",
       "                                                                       ('@kvg:element',\n",
       "                                                                        '亅'),\n",
       "                                                                       ('@xmlns:kvg',\n",
       "                                                                        'http://kanjivg.tagaini.net'),\n",
       "                                                                       ('path',\n",
       "                                                                        OrderedDict([('@id',\n",
       "                                                                                      'kvg:06211-s3'),\n",
       "                                                                                     ('@kvg:type',\n",
       "                                                                                      '㇚'),\n",
       "                                                                                     ('@d',\n",
       "                                                                                      'M39.02,27.33c0.83,0.83,1.51,2.04,1.51,4.27c0,14.56-0.01,52.4-0.01,58.37c0,11.78-5.71,1.75-7.21,0.5'),\n",
       "                                                                                     ('@xmlns:kvg',\n",
       "                                                                                      'http://kanjivg.tagaini.net')]))]),\n",
       "                                                          OrderedDict([('@id',\n",
       "                                                                        'kvg:06211-g5'),\n",
       "                                                                       ('@kvg:element',\n",
       "                                                                        '戈'),\n",
       "                                                                       ('@kvg:part',\n",
       "                                                                        '2'),\n",
       "                                                                       ('@kvg:radical',\n",
       "                                                                        'tradit'),\n",
       "                                                                       ('@xmlns:kvg',\n",
       "                                                                        'http://kanjivg.tagaini.net'),\n",
       "                                                                       ('path',\n",
       "                                                                        OrderedDict([('@id',\n",
       "                                                                                      'kvg:06211-s5'),\n",
       "                                                                                     ('@kvg:type',\n",
       "                                                                                      '㇂'),\n",
       "                                                                                     ('@d',\n",
       "                                                                                      'M60,12.25c1.12,1.38,1.5,3.38,1.74,6.29c2.89,35.21,8.89,61.71,29.79,75.88c5.93,4.02,6.23,2.08,4.9-5.59'),\n",
       "                                                                                     ('@xmlns:kvg',\n",
       "                                                                                      'http://kanjivg.tagaini.net')])),\n",
       "                                                                       ('g',\n",
       "                                                                        [OrderedDict([('@id',\n",
       "                                                                                       'kvg:06211-g6'),\n",
       "                                                                                      ('@kvg:element',\n",
       "                                                                                       '丿'),\n",
       "                                                                                      ('@xmlns:kvg',\n",
       "                                                                                       'http://kanjivg.tagaini.net'),\n",
       "                                                                                      ('path',\n",
       "                                                                                       OrderedDict([('@id',\n",
       "                                                                                                     'kvg:06211-s6'),\n",
       "                                                                                                    ('@kvg:type',\n",
       "                                                                                                     '㇒'),\n",
       "                                                                                                    ('@d',\n",
       "                                                                                                     'M84.21,47.14c0.09,1,0.08,2.39-0.43,3.78c-3.28,8.82-13.86,27.11-31.47,38.54'),\n",
       "                                                                                                    ('@xmlns:kvg',\n",
       "                                                                                                     'http://kanjivg.tagaini.net')]))]),\n",
       "                                                                         OrderedDict([('@id',\n",
       "                                                                                       'kvg:06211-g7'),\n",
       "                                                                                      ('@kvg:element',\n",
       "                                                                                       '弋'),\n",
       "                                                                                      ('@kvg:part',\n",
       "                                                                                       '2'),\n",
       "                                                                                      ('@xmlns:kvg',\n",
       "                                                                                       'http://kanjivg.tagaini.net'),\n",
       "                                                                                      ('g',\n",
       "                                                                                       OrderedDict([('@id',\n",
       "                                                                                                     'kvg:06211-g8'),\n",
       "                                                                                                    ('@kvg:element',\n",
       "                                                                                                     '丶'),\n",
       "                                                                                                    ('@xmlns:kvg',\n",
       "                                                                                                     'http://kanjivg.tagaini.net'),\n",
       "                                                                                                    ('path',\n",
       "                                                                                                     OrderedDict([('@id',\n",
       "                                                                                                                   'kvg:06211-s7'),\n",
       "                                                                                                                  ('@kvg:type',\n",
       "                                                                                                                   '㇔'),\n",
       "                                                                                                                  ('@d',\n",
       "                                                                                                                   'M80.88,16.62c3.22,1.82,8.37,6,9.88,9.12'),\n",
       "                                                                                                                  ('@xmlns:kvg',\n",
       "                                                                                                                   'http://kanjivg.tagaini.net')]))]))])])])]),\n",
       "                                                        ('path',\n",
       "                                                         OrderedDict([('@id',\n",
       "                                                                       'kvg:06211-s4'),\n",
       "                                                                      ('@kvg:type',\n",
       "                                                                       '㇀'),\n",
       "                                                                      ('@d',\n",
       "                                                                       'M15.62,74.5c1.38,0.88,3.03,0.67,4.69-0.35c1.62-1,21.43-13.52,29.93-19.15'),\n",
       "                                                                      ('@xmlns:kvg',\n",
       "                                                                       'http://kanjivg.tagaini.net')]))]))]),\n",
       "                             OrderedDict([('@id', 'kvg:StrokeNumbers_06211'),\n",
       "                                          ('@style',\n",
       "                                           'font-size:8;fill:#808080'),\n",
       "                                          ('@xmlns:kvg',\n",
       "                                           'http://kanjivg.tagaini.net'),\n",
       "                                          ('text',\n",
       "                                           [OrderedDict([('@transform',\n",
       "                                                          'matrix(1 0 0 1 38.50 16.50)'),\n",
       "                                                         ('#text', '1')]),\n",
       "                                            OrderedDict([('@transform',\n",
       "                                                          'matrix(1 0 0 1 8.25 46.50)'),\n",
       "                                                         ('#text', '2')]),\n",
       "                                            OrderedDict([('@transform',\n",
       "                                                          'matrix(1 0 0 1 33.75 37.63)'),\n",
       "                                                         ('#text', '3')]),\n",
       "                                            OrderedDict([('@transform',\n",
       "                                                          'matrix(1 0 0 1 7.50 77.50)'),\n",
       "                                                         ('#text', '4')]),\n",
       "                                            OrderedDict([('@transform',\n",
       "                                                          'matrix(1 0 0 1 50.50 12.50)'),\n",
       "                                                         ('#text', '5')]),\n",
       "                                            OrderedDict([('@transform',\n",
       "                                                          'matrix(1 0 0 1 76.75 50.63)'),\n",
       "                                                         ('#text', '6')]),\n",
       "                                            OrderedDict([('@transform',\n",
       "                                                          'matrix(1 0 0 1 73.50 17.50)'),\n",
       "                                                         ('#text',\n",
       "                                                          '7')])])])])]))])"
      ]
     },
     "execution_count": 79,
     "metadata": {},
     "output_type": "execute_result"
    }
   ],
   "source": [
    "kdict"
   ]
  },
  {
   "cell_type": "code",
   "execution_count": 81,
   "metadata": {
    "collapsed": false
   },
   "outputs": [
    {
     "data": {
      "text/plain": [
       "b'\\x06\\xf1\\xe4\\x18y\\x10\\xd1\\xbf\\x1e\\xf9\\xa6\\xbe\\x862>\\xb3+\\xa1\\x7f\\x07\\xe761\\xbd'"
      ]
     },
     "execution_count": 81,
     "metadata": {},
     "output_type": "execute_result"
    }
   ],
   "source": [
    "os.urandom(24)"
   ]
  },
  {
   "cell_type": "code",
   "execution_count": 83,
   "metadata": {
    "collapsed": false
   },
   "outputs": [
    {
     "data": {
      "text/plain": [
       "<enumerate at 0x7f5f79c024c8>"
      ]
     },
     "execution_count": 83,
     "metadata": {},
     "output_type": "execute_result"
    }
   ],
   "source": [
    "enumerate(range(10))"
   ]
  },
  {
   "cell_type": "code",
   "execution_count": null,
   "metadata": {
    "collapsed": true
   },
   "outputs": [],
   "source": []
  }
 ],
 "metadata": {
  "kernelspec": {
   "display_name": "Python 3",
   "language": "python",
   "name": "python3"
  },
  "language_info": {
   "codemirror_mode": {
    "name": "ipython",
    "version": 3
   },
   "file_extension": ".py",
   "mimetype": "text/x-python",
   "name": "python",
   "nbconvert_exporter": "python",
   "pygments_lexer": "ipython3",
   "version": "3.4.3"
  }
 },
 "nbformat": 4,
 "nbformat_minor": 0
}
