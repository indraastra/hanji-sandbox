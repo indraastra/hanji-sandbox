{
 "cells": [
  {
   "cell_type": "code",
   "execution_count": 93,
   "metadata": {
    "collapsed": true
   },
   "outputs": [],
   "source": [
    "from IPython.display import SVG"
   ]
  },
  {
   "cell_type": "code",
   "execution_count": 94,
   "metadata": {
    "collapsed": false
   },
   "outputs": [
    {
     "ename": "ExpatError",
     "evalue": "syntax error: line 1, column 0",
     "output_type": "error",
     "traceback": [
      "\u001b[1;31m---------------------------------------------------------------------------\u001b[0m",
      "\u001b[1;31mExpatError\u001b[0m                                Traceback (most recent call last)",
      "\u001b[1;32m<ipython-input-94-b49233d170e7>\u001b[0m in \u001b[0;36m<module>\u001b[1;34m()\u001b[0m\n\u001b[1;32m----> 1\u001b[1;33m \u001b[0mSVG\u001b[0m\u001b[1;33m(\u001b[0m\u001b[1;34m\"04f60.svg\"\u001b[0m\u001b[1;33m)\u001b[0m\u001b[1;33m\u001b[0m\u001b[0m\n\u001b[0m",
      "\u001b[1;32m/usr/local/lib/python3.4/dist-packages/IPython/core/display.py\u001b[0m in \u001b[0;36m__init__\u001b[1;34m(self, data, url, filename)\u001b[0m\n\u001b[0;32m    380\u001b[0m                 \u001b[0mdata\u001b[0m \u001b[1;33m=\u001b[0m \u001b[1;32mNone\u001b[0m\u001b[1;33m\u001b[0m\u001b[0m\n\u001b[0;32m    381\u001b[0m \u001b[1;33m\u001b[0m\u001b[0m\n\u001b[1;32m--> 382\u001b[1;33m         \u001b[0mself\u001b[0m\u001b[1;33m.\u001b[0m\u001b[0mdata\u001b[0m \u001b[1;33m=\u001b[0m \u001b[0mdata\u001b[0m\u001b[1;33m\u001b[0m\u001b[0m\n\u001b[0m\u001b[0;32m    383\u001b[0m         \u001b[0mself\u001b[0m\u001b[1;33m.\u001b[0m\u001b[0murl\u001b[0m \u001b[1;33m=\u001b[0m \u001b[0murl\u001b[0m\u001b[1;33m\u001b[0m\u001b[0m\n\u001b[0;32m    384\u001b[0m         \u001b[0mself\u001b[0m\u001b[1;33m.\u001b[0m\u001b[0mfilename\u001b[0m \u001b[1;33m=\u001b[0m \u001b[1;32mNone\u001b[0m \u001b[1;32mif\u001b[0m \u001b[0mfilename\u001b[0m \u001b[1;32mis\u001b[0m \u001b[1;32mNone\u001b[0m \u001b[1;32melse\u001b[0m \u001b[0municode_type\u001b[0m\u001b[1;33m(\u001b[0m\u001b[0mfilename\u001b[0m\u001b[1;33m)\u001b[0m\u001b[1;33m\u001b[0m\u001b[0m\n",
      "\u001b[1;32m/usr/local/lib/python3.4/dist-packages/IPython/core/display.py\u001b[0m in \u001b[0;36mdata\u001b[1;34m(self, svg)\u001b[0m\n\u001b[0;32m    488\u001b[0m         \u001b[1;32mfrom\u001b[0m \u001b[0mxml\u001b[0m\u001b[1;33m.\u001b[0m\u001b[0mdom\u001b[0m \u001b[1;32mimport\u001b[0m \u001b[0mminidom\u001b[0m\u001b[1;33m\u001b[0m\u001b[0m\n\u001b[0;32m    489\u001b[0m         \u001b[0msvg\u001b[0m \u001b[1;33m=\u001b[0m \u001b[0mcast_bytes_py2\u001b[0m\u001b[1;33m(\u001b[0m\u001b[0msvg\u001b[0m\u001b[1;33m)\u001b[0m\u001b[1;33m\u001b[0m\u001b[0m\n\u001b[1;32m--> 490\u001b[1;33m         \u001b[0mx\u001b[0m \u001b[1;33m=\u001b[0m \u001b[0mminidom\u001b[0m\u001b[1;33m.\u001b[0m\u001b[0mparseString\u001b[0m\u001b[1;33m(\u001b[0m\u001b[0msvg\u001b[0m\u001b[1;33m)\u001b[0m\u001b[1;33m\u001b[0m\u001b[0m\n\u001b[0m\u001b[0;32m    491\u001b[0m         \u001b[1;31m# get svg tag (should be 1)\u001b[0m\u001b[1;33m\u001b[0m\u001b[1;33m\u001b[0m\u001b[0m\n\u001b[0;32m    492\u001b[0m         \u001b[0mfound_svg\u001b[0m \u001b[1;33m=\u001b[0m \u001b[0mx\u001b[0m\u001b[1;33m.\u001b[0m\u001b[0mgetElementsByTagName\u001b[0m\u001b[1;33m(\u001b[0m\u001b[1;34m'svg'\u001b[0m\u001b[1;33m)\u001b[0m\u001b[1;33m\u001b[0m\u001b[0m\n",
      "\u001b[1;32m/usr/lib/python3.4/xml/dom/minidom.py\u001b[0m in \u001b[0;36mparseString\u001b[1;34m(string, parser)\u001b[0m\n\u001b[0;32m   1968\u001b[0m     \u001b[1;32mif\u001b[0m \u001b[0mparser\u001b[0m \u001b[1;32mis\u001b[0m \u001b[1;32mNone\u001b[0m\u001b[1;33m:\u001b[0m\u001b[1;33m\u001b[0m\u001b[0m\n\u001b[0;32m   1969\u001b[0m         \u001b[1;32mfrom\u001b[0m \u001b[0mxml\u001b[0m\u001b[1;33m.\u001b[0m\u001b[0mdom\u001b[0m \u001b[1;32mimport\u001b[0m \u001b[0mexpatbuilder\u001b[0m\u001b[1;33m\u001b[0m\u001b[0m\n\u001b[1;32m-> 1970\u001b[1;33m         \u001b[1;32mreturn\u001b[0m \u001b[0mexpatbuilder\u001b[0m\u001b[1;33m.\u001b[0m\u001b[0mparseString\u001b[0m\u001b[1;33m(\u001b[0m\u001b[0mstring\u001b[0m\u001b[1;33m)\u001b[0m\u001b[1;33m\u001b[0m\u001b[0m\n\u001b[0m\u001b[0;32m   1971\u001b[0m     \u001b[1;32melse\u001b[0m\u001b[1;33m:\u001b[0m\u001b[1;33m\u001b[0m\u001b[0m\n\u001b[0;32m   1972\u001b[0m         \u001b[1;32mfrom\u001b[0m \u001b[0mxml\u001b[0m\u001b[1;33m.\u001b[0m\u001b[0mdom\u001b[0m \u001b[1;32mimport\u001b[0m \u001b[0mpulldom\u001b[0m\u001b[1;33m\u001b[0m\u001b[0m\n",
      "\u001b[1;32m/usr/lib/python3.4/xml/dom/expatbuilder.py\u001b[0m in \u001b[0;36mparseString\u001b[1;34m(string, namespaces)\u001b[0m\n\u001b[0;32m    923\u001b[0m     \u001b[1;32melse\u001b[0m\u001b[1;33m:\u001b[0m\u001b[1;33m\u001b[0m\u001b[0m\n\u001b[0;32m    924\u001b[0m         \u001b[0mbuilder\u001b[0m \u001b[1;33m=\u001b[0m \u001b[0mExpatBuilder\u001b[0m\u001b[1;33m(\u001b[0m\u001b[1;33m)\u001b[0m\u001b[1;33m\u001b[0m\u001b[0m\n\u001b[1;32m--> 925\u001b[1;33m     \u001b[1;32mreturn\u001b[0m \u001b[0mbuilder\u001b[0m\u001b[1;33m.\u001b[0m\u001b[0mparseString\u001b[0m\u001b[1;33m(\u001b[0m\u001b[0mstring\u001b[0m\u001b[1;33m)\u001b[0m\u001b[1;33m\u001b[0m\u001b[0m\n\u001b[0m\u001b[0;32m    926\u001b[0m \u001b[1;33m\u001b[0m\u001b[0m\n\u001b[0;32m    927\u001b[0m \u001b[1;33m\u001b[0m\u001b[0m\n",
      "\u001b[1;32m/usr/lib/python3.4/xml/dom/expatbuilder.py\u001b[0m in \u001b[0;36mparseString\u001b[1;34m(self, string)\u001b[0m\n\u001b[0;32m    221\u001b[0m         \u001b[0mparser\u001b[0m \u001b[1;33m=\u001b[0m \u001b[0mself\u001b[0m\u001b[1;33m.\u001b[0m\u001b[0mgetParser\u001b[0m\u001b[1;33m(\u001b[0m\u001b[1;33m)\u001b[0m\u001b[1;33m\u001b[0m\u001b[0m\n\u001b[0;32m    222\u001b[0m         \u001b[1;32mtry\u001b[0m\u001b[1;33m:\u001b[0m\u001b[1;33m\u001b[0m\u001b[0m\n\u001b[1;32m--> 223\u001b[1;33m             \u001b[0mparser\u001b[0m\u001b[1;33m.\u001b[0m\u001b[0mParse\u001b[0m\u001b[1;33m(\u001b[0m\u001b[0mstring\u001b[0m\u001b[1;33m,\u001b[0m \u001b[1;32mTrue\u001b[0m\u001b[1;33m)\u001b[0m\u001b[1;33m\u001b[0m\u001b[0m\n\u001b[0m\u001b[0;32m    224\u001b[0m             \u001b[0mself\u001b[0m\u001b[1;33m.\u001b[0m\u001b[0m_setup_subset\u001b[0m\u001b[1;33m(\u001b[0m\u001b[0mstring\u001b[0m\u001b[1;33m)\u001b[0m\u001b[1;33m\u001b[0m\u001b[0m\n\u001b[0;32m    225\u001b[0m         \u001b[1;32mexcept\u001b[0m \u001b[0mParseEscape\u001b[0m\u001b[1;33m:\u001b[0m\u001b[1;33m\u001b[0m\u001b[0m\n",
      "\u001b[1;31mExpatError\u001b[0m: syntax error: line 1, column 0"
     ]
    }
   ],
   "source": [
    "SVG(\"04f60.svg\")"
   ]
  },
  {
   "cell_type": "code",
   "execution_count": 19,
   "metadata": {
    "collapsed": false
   },
   "outputs": [
    {
     "data": {
      "text/plain": [
       "'𠮟'"
      ]
     },
     "execution_count": 19,
     "metadata": {},
     "output_type": "execute_result"
    }
   ],
   "source": [
    "\"\\U00020b9f\""
   ]
  },
  {
   "cell_type": "code",
   "execution_count": 89,
   "metadata": {
    "collapsed": false
   },
   "outputs": [
    {
     "data": {
      "text/plain": [
       "b'\\\\u4f60'"
      ]
     },
     "execution_count": 89,
     "metadata": {},
     "output_type": "execute_result"
    }
   ],
   "source": [
    "'你'.encode('unicode_escape')"
   ]
  },
  {
   "cell_type": "code",
   "execution_count": 91,
   "metadata": {
    "collapsed": false
   },
   "outputs": [
    {
     "data": {
      "text/plain": [
       "'你'"
      ]
     },
     "execution_count": 91,
     "metadata": {},
     "output_type": "execute_result"
    }
   ],
   "source": [
    "'\\u4f60'"
   ]
  },
  {
   "cell_type": "code",
   "execution_count": 33,
   "metadata": {
    "collapsed": false
   },
   "outputs": [],
   "source": [
    "c = '俩'"
   ]
  },
  {
   "cell_type": "code",
   "execution_count": 34,
   "metadata": {
    "collapsed": false
   },
   "outputs": [
    {
     "data": {
      "text/plain": [
       "str"
      ]
     },
     "execution_count": 34,
     "metadata": {},
     "output_type": "execute_result"
    }
   ],
   "source": [
    "type(c)"
   ]
  },
  {
   "cell_type": "code",
   "execution_count": 36,
   "metadata": {
    "collapsed": false
   },
   "outputs": [
    {
     "data": {
      "text/plain": [
       "'04fe9.svg'"
      ]
     },
     "execution_count": 36,
     "metadata": {},
     "output_type": "execute_result"
    }
   ],
   "source": [
    "\"{:05x}.svg\".format((ord(c[0])))"
   ]
  },
  {
   "cell_type": "code",
   "execution_count": 5,
   "metadata": {
    "collapsed": true
   },
   "outputs": [],
   "source": [
    "import lib_kanji as lk"
   ]
  },
  {
   "cell_type": "code",
   "execution_count": 3,
   "metadata": {
    "collapsed": true
   },
   "outputs": [],
   "source": [
    "kxml = lib_kanji.load_xml('我')"
   ]
  },
  {
   "cell_type": "code",
   "execution_count": 6,
   "metadata": {
    "collapsed": false
   },
   "outputs": [],
   "source": [
    "kdict = lk.parse_svg(kxml)"
   ]
  },
  {
   "cell_type": "code",
   "execution_count": 7,
   "metadata": {
    "collapsed": false
   },
   "outputs": [
    {
     "data": {
      "text/plain": [
       "OrderedDict([('svg',\n",
       "              OrderedDict([('@xmlns', 'http://www.w3.org/2000/svg'),\n",
       "                           ('@width', '300'),\n",
       "                           ('@height', '300'),\n",
       "                           ('@viewBox', '0 0 109 109'),\n",
       "                           ('g',\n",
       "                            [OrderedDict([('@id', 'kvg:StrokePaths_06211'),\n",
       "                                          ('@style',\n",
       "                                           'fill:none;stroke:#000000;stroke-width:3;stroke-linecap:round;stroke-linejoin:round;'),\n",
       "                                          ('@xmlns:kvg',\n",
       "                                           'http://kanjivg.tagaini.net'),\n",
       "                                          ('g',\n",
       "                                           OrderedDict([('@id', 'kvg:06211'),\n",
       "                                                        ('@kvg:element', '我'),\n",
       "                                                        ('@xmlns:kvg',\n",
       "                                                         'http://kanjivg.tagaini.net'),\n",
       "                                                        ('g',\n",
       "                                                         [OrderedDict([('@id',\n",
       "                                                                        'kvg:06211-g1'),\n",
       "                                                                       ('@kvg:element',\n",
       "                                                                        '丿'),\n",
       "                                                                       ('@kvg:radical',\n",
       "                                                                        'nelson'),\n",
       "                                                                       ('@xmlns:kvg',\n",
       "                                                                        'http://kanjivg.tagaini.net'),\n",
       "                                                                       ('path',\n",
       "                                                                        OrderedDict([('@id',\n",
       "                                                                                      'kvg:06211-s1'),\n",
       "                                                                                     ('@kvg:type',\n",
       "                                                                                      '㇒'),\n",
       "                                                                                     ('@d',\n",
       "                                                                                      'M45.99,16.14c0.06,0.38-0.2,1.85-0.62,2.27c-3.75,3.71-9.5,7.96-21.56,13.8'),\n",
       "                                                                                     ('@xmlns:kvg',\n",
       "                                                                                      'http://kanjivg.tagaini.net')]))]),\n",
       "                                                          OrderedDict([('@id',\n",
       "                                                                        'kvg:06211-g2'),\n",
       "                                                                       ('@kvg:element',\n",
       "                                                                        '戈'),\n",
       "                                                                       ('@kvg:part',\n",
       "                                                                        '1'),\n",
       "                                                                       ('@kvg:radical',\n",
       "                                                                        'tradit'),\n",
       "                                                                       ('@xmlns:kvg',\n",
       "                                                                        'http://kanjivg.tagaini.net'),\n",
       "                                                                       ('g',\n",
       "                                                                        OrderedDict([('@id',\n",
       "                                                                                      'kvg:06211-g3'),\n",
       "                                                                                     ('@kvg:element',\n",
       "                                                                                      '弋'),\n",
       "                                                                                     ('@kvg:part',\n",
       "                                                                                      '1'),\n",
       "                                                                                     ('@xmlns:kvg',\n",
       "                                                                                      'http://kanjivg.tagaini.net'),\n",
       "                                                                                     ('path',\n",
       "                                                                                      OrderedDict([('@id',\n",
       "                                                                                                    'kvg:06211-s2'),\n",
       "                                                                                                   ('@kvg:type',\n",
       "                                                                                                    '㇐'),\n",
       "                                                                                                   ('@d',\n",
       "                                                                                                    'M15.75,44.95c2.88,0.68,5.82,0.43,8.52,0.1c9.61-1.17,43.59-6.49,60.24-7.8c3.07-0.24,5.97-0.35,9,0.3'),\n",
       "                                                                                                   ('@xmlns:kvg',\n",
       "                                                                                                    'http://kanjivg.tagaini.net')]))]))]),\n",
       "                                                          OrderedDict([('@id',\n",
       "                                                                        'kvg:06211-g4'),\n",
       "                                                                       ('@kvg:element',\n",
       "                                                                        '亅'),\n",
       "                                                                       ('@xmlns:kvg',\n",
       "                                                                        'http://kanjivg.tagaini.net'),\n",
       "                                                                       ('path',\n",
       "                                                                        OrderedDict([('@id',\n",
       "                                                                                      'kvg:06211-s3'),\n",
       "                                                                                     ('@kvg:type',\n",
       "                                                                                      '㇚'),\n",
       "                                                                                     ('@d',\n",
       "                                                                                      'M39.02,27.33c0.83,0.83,1.51,2.04,1.51,4.27c0,14.56-0.01,52.4-0.01,58.37c0,11.78-5.71,1.75-7.21,0.5'),\n",
       "                                                                                     ('@xmlns:kvg',\n",
       "                                                                                      'http://kanjivg.tagaini.net')]))]),\n",
       "                                                          OrderedDict([('@id',\n",
       "                                                                        'kvg:06211-g5'),\n",
       "                                                                       ('@kvg:element',\n",
       "                                                                        '戈'),\n",
       "                                                                       ('@kvg:part',\n",
       "                                                                        '2'),\n",
       "                                                                       ('@kvg:radical',\n",
       "                                                                        'tradit'),\n",
       "                                                                       ('@xmlns:kvg',\n",
       "                                                                        'http://kanjivg.tagaini.net'),\n",
       "                                                                       ('path',\n",
       "                                                                        OrderedDict([('@id',\n",
       "                                                                                      'kvg:06211-s5'),\n",
       "                                                                                     ('@kvg:type',\n",
       "                                                                                      '㇂'),\n",
       "                                                                                     ('@d',\n",
       "                                                                                      'M60,12.25c1.12,1.38,1.5,3.38,1.74,6.29c2.89,35.21,8.89,61.71,29.79,75.88c5.93,4.02,6.23,2.08,4.9-5.59'),\n",
       "                                                                                     ('@xmlns:kvg',\n",
       "                                                                                      'http://kanjivg.tagaini.net')])),\n",
       "                                                                       ('g',\n",
       "                                                                        [OrderedDict([('@id',\n",
       "                                                                                       'kvg:06211-g6'),\n",
       "                                                                                      ('@kvg:element',\n",
       "                                                                                       '丿'),\n",
       "                                                                                      ('@xmlns:kvg',\n",
       "                                                                                       'http://kanjivg.tagaini.net'),\n",
       "                                                                                      ('path',\n",
       "                                                                                       OrderedDict([('@id',\n",
       "                                                                                                     'kvg:06211-s6'),\n",
       "                                                                                                    ('@kvg:type',\n",
       "                                                                                                     '㇒'),\n",
       "                                                                                                    ('@d',\n",
       "                                                                                                     'M84.21,47.14c0.09,1,0.08,2.39-0.43,3.78c-3.28,8.82-13.86,27.11-31.47,38.54'),\n",
       "                                                                                                    ('@xmlns:kvg',\n",
       "                                                                                                     'http://kanjivg.tagaini.net')]))]),\n",
       "                                                                         OrderedDict([('@id',\n",
       "                                                                                       'kvg:06211-g7'),\n",
       "                                                                                      ('@kvg:element',\n",
       "                                                                                       '弋'),\n",
       "                                                                                      ('@kvg:part',\n",
       "                                                                                       '2'),\n",
       "                                                                                      ('@xmlns:kvg',\n",
       "                                                                                       'http://kanjivg.tagaini.net'),\n",
       "                                                                                      ('g',\n",
       "                                                                                       OrderedDict([('@id',\n",
       "                                                                                                     'kvg:06211-g8'),\n",
       "                                                                                                    ('@kvg:element',\n",
       "                                                                                                     '丶'),\n",
       "                                                                                                    ('@xmlns:kvg',\n",
       "                                                                                                     'http://kanjivg.tagaini.net'),\n",
       "                                                                                                    ('path',\n",
       "                                                                                                     OrderedDict([('@id',\n",
       "                                                                                                                   'kvg:06211-s7'),\n",
       "                                                                                                                  ('@kvg:type',\n",
       "                                                                                                                   '㇔'),\n",
       "                                                                                                                  ('@d',\n",
       "                                                                                                                   'M80.88,16.62c3.22,1.82,8.37,6,9.88,9.12'),\n",
       "                                                                                                                  ('@xmlns:kvg',\n",
       "                                                                                                                   'http://kanjivg.tagaini.net')]))]))])])])]),\n",
       "                                                        ('path',\n",
       "                                                         OrderedDict([('@id',\n",
       "                                                                       'kvg:06211-s4'),\n",
       "                                                                      ('@kvg:type',\n",
       "                                                                       '㇀'),\n",
       "                                                                      ('@d',\n",
       "                                                                       'M15.62,74.5c1.38,0.88,3.03,0.67,4.69-0.35c1.62-1,21.43-13.52,29.93-19.15'),\n",
       "                                                                      ('@xmlns:kvg',\n",
       "                                                                       'http://kanjivg.tagaini.net')]))]))]),\n",
       "                             OrderedDict([('@id', 'kvg:StrokeNumbers_06211'),\n",
       "                                          ('@style',\n",
       "                                           'font-size:8;fill:#808080'),\n",
       "                                          ('@xmlns:kvg',\n",
       "                                           'http://kanjivg.tagaini.net'),\n",
       "                                          ('text',\n",
       "                                           [OrderedDict([('@transform',\n",
       "                                                          'matrix(1 0 0 1 38.50 16.50)'),\n",
       "                                                         ('#text', '1')]),\n",
       "                                            OrderedDict([('@transform',\n",
       "                                                          'matrix(1 0 0 1 8.25 46.50)'),\n",
       "                                                         ('#text', '2')]),\n",
       "                                            OrderedDict([('@transform',\n",
       "                                                          'matrix(1 0 0 1 33.75 37.63)'),\n",
       "                                                         ('#text', '3')]),\n",
       "                                            OrderedDict([('@transform',\n",
       "                                                          'matrix(1 0 0 1 7.50 77.50)'),\n",
       "                                                         ('#text', '4')]),\n",
       "                                            OrderedDict([('@transform',\n",
       "                                                          'matrix(1 0 0 1 50.50 12.50)'),\n",
       "                                                         ('#text', '5')]),\n",
       "                                            OrderedDict([('@transform',\n",
       "                                                          'matrix(1 0 0 1 76.75 50.63)'),\n",
       "                                                         ('#text', '6')]),\n",
       "                                            OrderedDict([('@transform',\n",
       "                                                          'matrix(1 0 0 1 73.50 17.50)'),\n",
       "                                                         ('#text',\n",
       "                                                          '7')])])])])]))])"
      ]
     },
     "execution_count": 7,
     "metadata": {},
     "output_type": "execute_result"
    }
   ],
   "source": [
    "kdict"
   ]
  },
  {
   "cell_type": "code",
   "execution_count": 8,
   "metadata": {
    "collapsed": true
   },
   "outputs": [],
   "source": [
    "import os"
   ]
  },
  {
   "cell_type": "code",
   "execution_count": 9,
   "metadata": {
    "collapsed": true
   },
   "outputs": [],
   "source": [
    "svg = kdict['svg']"
   ]
  },
  {
   "cell_type": "code",
   "execution_count": 10,
   "metadata": {
    "collapsed": false
   },
   "outputs": [
    {
     "data": {
      "text/plain": [
       "OrderedDict([('@xmlns', 'http://www.w3.org/2000/svg'),\n",
       "             ('@width', '300'),\n",
       "             ('@height', '300'),\n",
       "             ('@viewBox', '0 0 109 109'),\n",
       "             ('g',\n",
       "              [OrderedDict([('@id', 'kvg:StrokePaths_06211'),\n",
       "                            ('@style',\n",
       "                             'fill:none;stroke:#000000;stroke-width:3;stroke-linecap:round;stroke-linejoin:round;'),\n",
       "                            ('@xmlns:kvg', 'http://kanjivg.tagaini.net'),\n",
       "                            ('g',\n",
       "                             OrderedDict([('@id', 'kvg:06211'),\n",
       "                                          ('@kvg:element', '我'),\n",
       "                                          ('@xmlns:kvg',\n",
       "                                           'http://kanjivg.tagaini.net'),\n",
       "                                          ('g',\n",
       "                                           [OrderedDict([('@id',\n",
       "                                                          'kvg:06211-g1'),\n",
       "                                                         ('@kvg:element', '丿'),\n",
       "                                                         ('@kvg:radical',\n",
       "                                                          'nelson'),\n",
       "                                                         ('@xmlns:kvg',\n",
       "                                                          'http://kanjivg.tagaini.net'),\n",
       "                                                         ('path',\n",
       "                                                          OrderedDict([('@id',\n",
       "                                                                        'kvg:06211-s1'),\n",
       "                                                                       ('@kvg:type',\n",
       "                                                                        '㇒'),\n",
       "                                                                       ('@d',\n",
       "                                                                        'M45.99,16.14c0.06,0.38-0.2,1.85-0.62,2.27c-3.75,3.71-9.5,7.96-21.56,13.8'),\n",
       "                                                                       ('@xmlns:kvg',\n",
       "                                                                        'http://kanjivg.tagaini.net')]))]),\n",
       "                                            OrderedDict([('@id',\n",
       "                                                          'kvg:06211-g2'),\n",
       "                                                         ('@kvg:element', '戈'),\n",
       "                                                         ('@kvg:part', '1'),\n",
       "                                                         ('@kvg:radical',\n",
       "                                                          'tradit'),\n",
       "                                                         ('@xmlns:kvg',\n",
       "                                                          'http://kanjivg.tagaini.net'),\n",
       "                                                         ('g',\n",
       "                                                          OrderedDict([('@id',\n",
       "                                                                        'kvg:06211-g3'),\n",
       "                                                                       ('@kvg:element',\n",
       "                                                                        '弋'),\n",
       "                                                                       ('@kvg:part',\n",
       "                                                                        '1'),\n",
       "                                                                       ('@xmlns:kvg',\n",
       "                                                                        'http://kanjivg.tagaini.net'),\n",
       "                                                                       ('path',\n",
       "                                                                        OrderedDict([('@id',\n",
       "                                                                                      'kvg:06211-s2'),\n",
       "                                                                                     ('@kvg:type',\n",
       "                                                                                      '㇐'),\n",
       "                                                                                     ('@d',\n",
       "                                                                                      'M15.75,44.95c2.88,0.68,5.82,0.43,8.52,0.1c9.61-1.17,43.59-6.49,60.24-7.8c3.07-0.24,5.97-0.35,9,0.3'),\n",
       "                                                                                     ('@xmlns:kvg',\n",
       "                                                                                      'http://kanjivg.tagaini.net')]))]))]),\n",
       "                                            OrderedDict([('@id',\n",
       "                                                          'kvg:06211-g4'),\n",
       "                                                         ('@kvg:element', '亅'),\n",
       "                                                         ('@xmlns:kvg',\n",
       "                                                          'http://kanjivg.tagaini.net'),\n",
       "                                                         ('path',\n",
       "                                                          OrderedDict([('@id',\n",
       "                                                                        'kvg:06211-s3'),\n",
       "                                                                       ('@kvg:type',\n",
       "                                                                        '㇚'),\n",
       "                                                                       ('@d',\n",
       "                                                                        'M39.02,27.33c0.83,0.83,1.51,2.04,1.51,4.27c0,14.56-0.01,52.4-0.01,58.37c0,11.78-5.71,1.75-7.21,0.5'),\n",
       "                                                                       ('@xmlns:kvg',\n",
       "                                                                        'http://kanjivg.tagaini.net')]))]),\n",
       "                                            OrderedDict([('@id',\n",
       "                                                          'kvg:06211-g5'),\n",
       "                                                         ('@kvg:element', '戈'),\n",
       "                                                         ('@kvg:part', '2'),\n",
       "                                                         ('@kvg:radical',\n",
       "                                                          'tradit'),\n",
       "                                                         ('@xmlns:kvg',\n",
       "                                                          'http://kanjivg.tagaini.net'),\n",
       "                                                         ('path',\n",
       "                                                          OrderedDict([('@id',\n",
       "                                                                        'kvg:06211-s5'),\n",
       "                                                                       ('@kvg:type',\n",
       "                                                                        '㇂'),\n",
       "                                                                       ('@d',\n",
       "                                                                        'M60,12.25c1.12,1.38,1.5,3.38,1.74,6.29c2.89,35.21,8.89,61.71,29.79,75.88c5.93,4.02,6.23,2.08,4.9-5.59'),\n",
       "                                                                       ('@xmlns:kvg',\n",
       "                                                                        'http://kanjivg.tagaini.net')])),\n",
       "                                                         ('g',\n",
       "                                                          [OrderedDict([('@id',\n",
       "                                                                         'kvg:06211-g6'),\n",
       "                                                                        ('@kvg:element',\n",
       "                                                                         '丿'),\n",
       "                                                                        ('@xmlns:kvg',\n",
       "                                                                         'http://kanjivg.tagaini.net'),\n",
       "                                                                        ('path',\n",
       "                                                                         OrderedDict([('@id',\n",
       "                                                                                       'kvg:06211-s6'),\n",
       "                                                                                      ('@kvg:type',\n",
       "                                                                                       '㇒'),\n",
       "                                                                                      ('@d',\n",
       "                                                                                       'M84.21,47.14c0.09,1,0.08,2.39-0.43,3.78c-3.28,8.82-13.86,27.11-31.47,38.54'),\n",
       "                                                                                      ('@xmlns:kvg',\n",
       "                                                                                       'http://kanjivg.tagaini.net')]))]),\n",
       "                                                           OrderedDict([('@id',\n",
       "                                                                         'kvg:06211-g7'),\n",
       "                                                                        ('@kvg:element',\n",
       "                                                                         '弋'),\n",
       "                                                                        ('@kvg:part',\n",
       "                                                                         '2'),\n",
       "                                                                        ('@xmlns:kvg',\n",
       "                                                                         'http://kanjivg.tagaini.net'),\n",
       "                                                                        ('g',\n",
       "                                                                         OrderedDict([('@id',\n",
       "                                                                                       'kvg:06211-g8'),\n",
       "                                                                                      ('@kvg:element',\n",
       "                                                                                       '丶'),\n",
       "                                                                                      ('@xmlns:kvg',\n",
       "                                                                                       'http://kanjivg.tagaini.net'),\n",
       "                                                                                      ('path',\n",
       "                                                                                       OrderedDict([('@id',\n",
       "                                                                                                     'kvg:06211-s7'),\n",
       "                                                                                                    ('@kvg:type',\n",
       "                                                                                                     '㇔'),\n",
       "                                                                                                    ('@d',\n",
       "                                                                                                     'M80.88,16.62c3.22,1.82,8.37,6,9.88,9.12'),\n",
       "                                                                                                    ('@xmlns:kvg',\n",
       "                                                                                                     'http://kanjivg.tagaini.net')]))]))])])])]),\n",
       "                                          ('path',\n",
       "                                           OrderedDict([('@id',\n",
       "                                                         'kvg:06211-s4'),\n",
       "                                                        ('@kvg:type', '㇀'),\n",
       "                                                        ('@d',\n",
       "                                                         'M15.62,74.5c1.38,0.88,3.03,0.67,4.69-0.35c1.62-1,21.43-13.52,29.93-19.15'),\n",
       "                                                        ('@xmlns:kvg',\n",
       "                                                         'http://kanjivg.tagaini.net')]))]))]),\n",
       "               OrderedDict([('@id', 'kvg:StrokeNumbers_06211'),\n",
       "                            ('@style', 'font-size:8;fill:#808080'),\n",
       "                            ('@xmlns:kvg', 'http://kanjivg.tagaini.net'),\n",
       "                            ('text',\n",
       "                             [OrderedDict([('@transform',\n",
       "                                            'matrix(1 0 0 1 38.50 16.50)'),\n",
       "                                           ('#text', '1')]),\n",
       "                              OrderedDict([('@transform',\n",
       "                                            'matrix(1 0 0 1 8.25 46.50)'),\n",
       "                                           ('#text', '2')]),\n",
       "                              OrderedDict([('@transform',\n",
       "                                            'matrix(1 0 0 1 33.75 37.63)'),\n",
       "                                           ('#text', '3')]),\n",
       "                              OrderedDict([('@transform',\n",
       "                                            'matrix(1 0 0 1 7.50 77.50)'),\n",
       "                                           ('#text', '4')]),\n",
       "                              OrderedDict([('@transform',\n",
       "                                            'matrix(1 0 0 1 50.50 12.50)'),\n",
       "                                           ('#text', '5')]),\n",
       "                              OrderedDict([('@transform',\n",
       "                                            'matrix(1 0 0 1 76.75 50.63)'),\n",
       "                                           ('#text', '6')]),\n",
       "                              OrderedDict([('@transform',\n",
       "                                            'matrix(1 0 0 1 73.50 17.50)'),\n",
       "                                           ('#text', '7')])])])])])"
      ]
     },
     "execution_count": 10,
     "metadata": {},
     "output_type": "execute_result"
    }
   ],
   "source": [
    "svg\n"
   ]
  },
  {
   "cell_type": "code",
   "execution_count": 11,
   "metadata": {
    "collapsed": false
   },
   "outputs": [
    {
     "data": {
      "text/plain": [
       "[OrderedDict([('@id', 'kvg:StrokePaths_06211'),\n",
       "              ('@style',\n",
       "               'fill:none;stroke:#000000;stroke-width:3;stroke-linecap:round;stroke-linejoin:round;'),\n",
       "              ('@xmlns:kvg', 'http://kanjivg.tagaini.net'),\n",
       "              ('g',\n",
       "               OrderedDict([('@id', 'kvg:06211'),\n",
       "                            ('@kvg:element', '我'),\n",
       "                            ('@xmlns:kvg', 'http://kanjivg.tagaini.net'),\n",
       "                            ('g',\n",
       "                             [OrderedDict([('@id', 'kvg:06211-g1'),\n",
       "                                           ('@kvg:element', '丿'),\n",
       "                                           ('@kvg:radical', 'nelson'),\n",
       "                                           ('@xmlns:kvg',\n",
       "                                            'http://kanjivg.tagaini.net'),\n",
       "                                           ('path',\n",
       "                                            OrderedDict([('@id',\n",
       "                                                          'kvg:06211-s1'),\n",
       "                                                         ('@kvg:type', '㇒'),\n",
       "                                                         ('@d',\n",
       "                                                          'M45.99,16.14c0.06,0.38-0.2,1.85-0.62,2.27c-3.75,3.71-9.5,7.96-21.56,13.8'),\n",
       "                                                         ('@xmlns:kvg',\n",
       "                                                          'http://kanjivg.tagaini.net')]))]),\n",
       "                              OrderedDict([('@id', 'kvg:06211-g2'),\n",
       "                                           ('@kvg:element', '戈'),\n",
       "                                           ('@kvg:part', '1'),\n",
       "                                           ('@kvg:radical', 'tradit'),\n",
       "                                           ('@xmlns:kvg',\n",
       "                                            'http://kanjivg.tagaini.net'),\n",
       "                                           ('g',\n",
       "                                            OrderedDict([('@id',\n",
       "                                                          'kvg:06211-g3'),\n",
       "                                                         ('@kvg:element', '弋'),\n",
       "                                                         ('@kvg:part', '1'),\n",
       "                                                         ('@xmlns:kvg',\n",
       "                                                          'http://kanjivg.tagaini.net'),\n",
       "                                                         ('path',\n",
       "                                                          OrderedDict([('@id',\n",
       "                                                                        'kvg:06211-s2'),\n",
       "                                                                       ('@kvg:type',\n",
       "                                                                        '㇐'),\n",
       "                                                                       ('@d',\n",
       "                                                                        'M15.75,44.95c2.88,0.68,5.82,0.43,8.52,0.1c9.61-1.17,43.59-6.49,60.24-7.8c3.07-0.24,5.97-0.35,9,0.3'),\n",
       "                                                                       ('@xmlns:kvg',\n",
       "                                                                        'http://kanjivg.tagaini.net')]))]))]),\n",
       "                              OrderedDict([('@id', 'kvg:06211-g4'),\n",
       "                                           ('@kvg:element', '亅'),\n",
       "                                           ('@xmlns:kvg',\n",
       "                                            'http://kanjivg.tagaini.net'),\n",
       "                                           ('path',\n",
       "                                            OrderedDict([('@id',\n",
       "                                                          'kvg:06211-s3'),\n",
       "                                                         ('@kvg:type', '㇚'),\n",
       "                                                         ('@d',\n",
       "                                                          'M39.02,27.33c0.83,0.83,1.51,2.04,1.51,4.27c0,14.56-0.01,52.4-0.01,58.37c0,11.78-5.71,1.75-7.21,0.5'),\n",
       "                                                         ('@xmlns:kvg',\n",
       "                                                          'http://kanjivg.tagaini.net')]))]),\n",
       "                              OrderedDict([('@id', 'kvg:06211-g5'),\n",
       "                                           ('@kvg:element', '戈'),\n",
       "                                           ('@kvg:part', '2'),\n",
       "                                           ('@kvg:radical', 'tradit'),\n",
       "                                           ('@xmlns:kvg',\n",
       "                                            'http://kanjivg.tagaini.net'),\n",
       "                                           ('path',\n",
       "                                            OrderedDict([('@id',\n",
       "                                                          'kvg:06211-s5'),\n",
       "                                                         ('@kvg:type', '㇂'),\n",
       "                                                         ('@d',\n",
       "                                                          'M60,12.25c1.12,1.38,1.5,3.38,1.74,6.29c2.89,35.21,8.89,61.71,29.79,75.88c5.93,4.02,6.23,2.08,4.9-5.59'),\n",
       "                                                         ('@xmlns:kvg',\n",
       "                                                          'http://kanjivg.tagaini.net')])),\n",
       "                                           ('g',\n",
       "                                            [OrderedDict([('@id',\n",
       "                                                           'kvg:06211-g6'),\n",
       "                                                          ('@kvg:element',\n",
       "                                                           '丿'),\n",
       "                                                          ('@xmlns:kvg',\n",
       "                                                           'http://kanjivg.tagaini.net'),\n",
       "                                                          ('path',\n",
       "                                                           OrderedDict([('@id',\n",
       "                                                                         'kvg:06211-s6'),\n",
       "                                                                        ('@kvg:type',\n",
       "                                                                         '㇒'),\n",
       "                                                                        ('@d',\n",
       "                                                                         'M84.21,47.14c0.09,1,0.08,2.39-0.43,3.78c-3.28,8.82-13.86,27.11-31.47,38.54'),\n",
       "                                                                        ('@xmlns:kvg',\n",
       "                                                                         'http://kanjivg.tagaini.net')]))]),\n",
       "                                             OrderedDict([('@id',\n",
       "                                                           'kvg:06211-g7'),\n",
       "                                                          ('@kvg:element',\n",
       "                                                           '弋'),\n",
       "                                                          ('@kvg:part', '2'),\n",
       "                                                          ('@xmlns:kvg',\n",
       "                                                           'http://kanjivg.tagaini.net'),\n",
       "                                                          ('g',\n",
       "                                                           OrderedDict([('@id',\n",
       "                                                                         'kvg:06211-g8'),\n",
       "                                                                        ('@kvg:element',\n",
       "                                                                         '丶'),\n",
       "                                                                        ('@xmlns:kvg',\n",
       "                                                                         'http://kanjivg.tagaini.net'),\n",
       "                                                                        ('path',\n",
       "                                                                         OrderedDict([('@id',\n",
       "                                                                                       'kvg:06211-s7'),\n",
       "                                                                                      ('@kvg:type',\n",
       "                                                                                       '㇔'),\n",
       "                                                                                      ('@d',\n",
       "                                                                                       'M80.88,16.62c3.22,1.82,8.37,6,9.88,9.12'),\n",
       "                                                                                      ('@xmlns:kvg',\n",
       "                                                                                       'http://kanjivg.tagaini.net')]))]))])])])]),\n",
       "                            ('path',\n",
       "                             OrderedDict([('@id', 'kvg:06211-s4'),\n",
       "                                          ('@kvg:type', '㇀'),\n",
       "                                          ('@d',\n",
       "                                           'M15.62,74.5c1.38,0.88,3.03,0.67,4.69-0.35c1.62-1,21.43-13.52,29.93-19.15'),\n",
       "                                          ('@xmlns:kvg',\n",
       "                                           'http://kanjivg.tagaini.net')]))]))]),\n",
       " OrderedDict([('@id', 'kvg:StrokeNumbers_06211'),\n",
       "              ('@style', 'font-size:8;fill:#808080'),\n",
       "              ('@xmlns:kvg', 'http://kanjivg.tagaini.net'),\n",
       "              ('text',\n",
       "               [OrderedDict([('@transform', 'matrix(1 0 0 1 38.50 16.50)'),\n",
       "                             ('#text', '1')]),\n",
       "                OrderedDict([('@transform', 'matrix(1 0 0 1 8.25 46.50)'),\n",
       "                             ('#text', '2')]),\n",
       "                OrderedDict([('@transform', 'matrix(1 0 0 1 33.75 37.63)'),\n",
       "                             ('#text', '3')]),\n",
       "                OrderedDict([('@transform', 'matrix(1 0 0 1 7.50 77.50)'),\n",
       "                             ('#text', '4')]),\n",
       "                OrderedDict([('@transform', 'matrix(1 0 0 1 50.50 12.50)'),\n",
       "                             ('#text', '5')]),\n",
       "                OrderedDict([('@transform', 'matrix(1 0 0 1 76.75 50.63)'),\n",
       "                             ('#text', '6')]),\n",
       "                OrderedDict([('@transform', 'matrix(1 0 0 1 73.50 17.50)'),\n",
       "                             ('#text', '7')])])])]"
      ]
     },
     "execution_count": 11,
     "metadata": {},
     "output_type": "execute_result"
    }
   ],
   "source": [
    "svg['g']"
   ]
  },
  {
   "cell_type": "code",
   "execution_count": 13,
   "metadata": {
    "collapsed": false
   },
   "outputs": [
    {
     "data": {
      "text/plain": [
       "2"
      ]
     },
     "execution_count": 13,
     "metadata": {},
     "output_type": "execute_result"
    }
   ],
   "source": [
    "len(svg['g'])"
   ]
  },
  {
   "cell_type": "code",
   "execution_count": 21,
   "metadata": {
    "collapsed": false
   },
   "outputs": [],
   "source": [
    "g = svg['g'][0]"
   ]
  },
  {
   "cell_type": "code",
   "execution_count": 64,
   "metadata": {
    "collapsed": false
   },
   "outputs": [],
   "source": [
    "p1 = g['g']['g'][0]['path']"
   ]
  },
  {
   "cell_type": "code",
   "execution_count": 65,
   "metadata": {
    "collapsed": false
   },
   "outputs": [],
   "source": [
    "import types"
   ]
  },
  {
   "cell_type": "code",
   "execution_count": 34,
   "metadata": {
    "collapsed": true
   },
   "outputs": [],
   "source": [
    "types."
   ]
  },
  {
   "cell_type": "code",
   "execution_count": 42,
   "metadata": {
    "collapsed": false
   },
   "outputs": [
    {
     "data": {
      "text/plain": [
       "OrderedDict([('@id', 'kvg:StrokePaths_06211'),\n",
       "             ('@style',\n",
       "              'fill:none;stroke:#000000;stroke-width:3;stroke-linecap:round;stroke-linejoin:round;'),\n",
       "             ('@xmlns:kvg', 'http://kanjivg.tagaini.net'),\n",
       "             ('g',\n",
       "              OrderedDict([('@id', 'kvg:06211'),\n",
       "                           ('@kvg:element', '我'),\n",
       "                           ('@xmlns:kvg', 'http://kanjivg.tagaini.net'),\n",
       "                           ('g',\n",
       "                            [OrderedDict([('@id', 'kvg:06211-g1'),\n",
       "                                          ('@kvg:element', '丿'),\n",
       "                                          ('@kvg:radical', 'nelson'),\n",
       "                                          ('@xmlns:kvg',\n",
       "                                           'http://kanjivg.tagaini.net'),\n",
       "                                          ('path',\n",
       "                                           OrderedDict([('@id',\n",
       "                                                         'kvg:06211-s1'),\n",
       "                                                        ('@kvg:type', '㇒'),\n",
       "                                                        ('@d',\n",
       "                                                         'M45.99,16.14c0.06,0.38-0.2,1.85-0.62,2.27c-3.75,3.71-9.5,7.96-21.56,13.8'),\n",
       "                                                        ('@xmlns:kvg',\n",
       "                                                         'http://kanjivg.tagaini.net'),\n",
       "                                                        ('@class', 'foo')]))]),\n",
       "                             OrderedDict([('@id', 'kvg:06211-g2'),\n",
       "                                          ('@kvg:element', '戈'),\n",
       "                                          ('@kvg:part', '1'),\n",
       "                                          ('@kvg:radical', 'tradit'),\n",
       "                                          ('@xmlns:kvg',\n",
       "                                           'http://kanjivg.tagaini.net'),\n",
       "                                          ('g',\n",
       "                                           OrderedDict([('@id',\n",
       "                                                         'kvg:06211-g3'),\n",
       "                                                        ('@kvg:element', '弋'),\n",
       "                                                        ('@kvg:part', '1'),\n",
       "                                                        ('@xmlns:kvg',\n",
       "                                                         'http://kanjivg.tagaini.net'),\n",
       "                                                        ('path',\n",
       "                                                         OrderedDict([('@id',\n",
       "                                                                       'kvg:06211-s2'),\n",
       "                                                                      ('@kvg:type',\n",
       "                                                                       '㇐'),\n",
       "                                                                      ('@d',\n",
       "                                                                       'M15.75,44.95c2.88,0.68,5.82,0.43,8.52,0.1c9.61-1.17,43.59-6.49,60.24-7.8c3.07-0.24,5.97-0.35,9,0.3'),\n",
       "                                                                      ('@xmlns:kvg',\n",
       "                                                                       'http://kanjivg.tagaini.net')]))]))]),\n",
       "                             OrderedDict([('@id', 'kvg:06211-g4'),\n",
       "                                          ('@kvg:element', '亅'),\n",
       "                                          ('@xmlns:kvg',\n",
       "                                           'http://kanjivg.tagaini.net'),\n",
       "                                          ('path',\n",
       "                                           OrderedDict([('@id',\n",
       "                                                         'kvg:06211-s3'),\n",
       "                                                        ('@kvg:type', '㇚'),\n",
       "                                                        ('@d',\n",
       "                                                         'M39.02,27.33c0.83,0.83,1.51,2.04,1.51,4.27c0,14.56-0.01,52.4-0.01,58.37c0,11.78-5.71,1.75-7.21,0.5'),\n",
       "                                                        ('@xmlns:kvg',\n",
       "                                                         'http://kanjivg.tagaini.net')]))]),\n",
       "                             OrderedDict([('@id', 'kvg:06211-g5'),\n",
       "                                          ('@kvg:element', '戈'),\n",
       "                                          ('@kvg:part', '2'),\n",
       "                                          ('@kvg:radical', 'tradit'),\n",
       "                                          ('@xmlns:kvg',\n",
       "                                           'http://kanjivg.tagaini.net'),\n",
       "                                          ('path',\n",
       "                                           OrderedDict([('@id',\n",
       "                                                         'kvg:06211-s5'),\n",
       "                                                        ('@kvg:type', '㇂'),\n",
       "                                                        ('@d',\n",
       "                                                         'M60,12.25c1.12,1.38,1.5,3.38,1.74,6.29c2.89,35.21,8.89,61.71,29.79,75.88c5.93,4.02,6.23,2.08,4.9-5.59'),\n",
       "                                                        ('@xmlns:kvg',\n",
       "                                                         'http://kanjivg.tagaini.net')])),\n",
       "                                          ('g',\n",
       "                                           [OrderedDict([('@id',\n",
       "                                                          'kvg:06211-g6'),\n",
       "                                                         ('@kvg:element', '丿'),\n",
       "                                                         ('@xmlns:kvg',\n",
       "                                                          'http://kanjivg.tagaini.net'),\n",
       "                                                         ('path',\n",
       "                                                          OrderedDict([('@id',\n",
       "                                                                        'kvg:06211-s6'),\n",
       "                                                                       ('@kvg:type',\n",
       "                                                                        '㇒'),\n",
       "                                                                       ('@d',\n",
       "                                                                        'M84.21,47.14c0.09,1,0.08,2.39-0.43,3.78c-3.28,8.82-13.86,27.11-31.47,38.54'),\n",
       "                                                                       ('@xmlns:kvg',\n",
       "                                                                        'http://kanjivg.tagaini.net')]))]),\n",
       "                                            OrderedDict([('@id',\n",
       "                                                          'kvg:06211-g7'),\n",
       "                                                         ('@kvg:element', '弋'),\n",
       "                                                         ('@kvg:part', '2'),\n",
       "                                                         ('@xmlns:kvg',\n",
       "                                                          'http://kanjivg.tagaini.net'),\n",
       "                                                         ('g',\n",
       "                                                          OrderedDict([('@id',\n",
       "                                                                        'kvg:06211-g8'),\n",
       "                                                                       ('@kvg:element',\n",
       "                                                                        '丶'),\n",
       "                                                                       ('@xmlns:kvg',\n",
       "                                                                        'http://kanjivg.tagaini.net'),\n",
       "                                                                       ('path',\n",
       "                                                                        OrderedDict([('@id',\n",
       "                                                                                      'kvg:06211-s7'),\n",
       "                                                                                     ('@kvg:type',\n",
       "                                                                                      '㇔'),\n",
       "                                                                                     ('@d',\n",
       "                                                                                      'M80.88,16.62c3.22,1.82,8.37,6,9.88,9.12'),\n",
       "                                                                                     ('@xmlns:kvg',\n",
       "                                                                                      'http://kanjivg.tagaini.net')]))]))])])])]),\n",
       "                           ('path',\n",
       "                            OrderedDict([('@id', 'kvg:06211-s4'),\n",
       "                                         ('@kvg:type', '㇀'),\n",
       "                                         ('@d',\n",
       "                                          'M15.62,74.5c1.38,0.88,3.03,0.67,4.69-0.35c1.62-1,21.43-13.52,29.93-19.15'),\n",
       "                                         ('@xmlns:kvg',\n",
       "                                          'http://kanjivg.tagaini.net')]))]))])"
      ]
     },
     "execution_count": 42,
     "metadata": {},
     "output_type": "execute_result"
    }
   ],
   "source": [
    "svg['g'][0]"
   ]
  },
  {
   "cell_type": "code",
   "execution_count": 68,
   "metadata": {
    "collapsed": false
   },
   "outputs": [],
   "source": [
    "    strokes = []\n",
    "    def _extract_strokes(svgd):\n",
    "        for k, v in svgd.items():\n",
    "            if k == 'path':\n",
    "                strokes.append(v)\n",
    "            elif isinstance(v, xmltodict.OrderedDict):\n",
    "                _extract_strokes(v)\n",
    "            elif isinstance(v, list):\n",
    "                for s_v in v:\n",
    "                    _extract_strokes(s_v)\n"
   ]
  },
  {
   "cell_type": "code",
   "execution_count": 69,
   "metadata": {
    "collapsed": false
   },
   "outputs": [],
   "source": [
    "_extract_strokes(g)"
   ]
  },
  {
   "cell_type": "code",
   "execution_count": 70,
   "metadata": {
    "collapsed": false
   },
   "outputs": [
    {
     "data": {
      "text/plain": [
       "[OrderedDict([('@id', 'kvg:06211-s1'),\n",
       "              ('@kvg:type', '㇒'),\n",
       "              ('@d',\n",
       "               'M45.99,16.14c0.06,0.38-0.2,1.85-0.62,2.27c-3.75,3.71-9.5,7.96-21.56,13.8'),\n",
       "              ('@xmlns:kvg', 'http://kanjivg.tagaini.net'),\n",
       "              ('@class', 'foo')]),\n",
       " OrderedDict([('@id', 'kvg:06211-s2'),\n",
       "              ('@kvg:type', '㇐'),\n",
       "              ('@d',\n",
       "               'M15.75,44.95c2.88,0.68,5.82,0.43,8.52,0.1c9.61-1.17,43.59-6.49,60.24-7.8c3.07-0.24,5.97-0.35,9,0.3'),\n",
       "              ('@xmlns:kvg', 'http://kanjivg.tagaini.net')]),\n",
       " OrderedDict([('@id', 'kvg:06211-s3'),\n",
       "              ('@kvg:type', '㇚'),\n",
       "              ('@d',\n",
       "               'M39.02,27.33c0.83,0.83,1.51,2.04,1.51,4.27c0,14.56-0.01,52.4-0.01,58.37c0,11.78-5.71,1.75-7.21,0.5'),\n",
       "              ('@xmlns:kvg', 'http://kanjivg.tagaini.net')]),\n",
       " OrderedDict([('@id', 'kvg:06211-s5'),\n",
       "              ('@kvg:type', '㇂'),\n",
       "              ('@d',\n",
       "               'M60,12.25c1.12,1.38,1.5,3.38,1.74,6.29c2.89,35.21,8.89,61.71,29.79,75.88c5.93,4.02,6.23,2.08,4.9-5.59'),\n",
       "              ('@xmlns:kvg', 'http://kanjivg.tagaini.net')]),\n",
       " OrderedDict([('@id', 'kvg:06211-s6'),\n",
       "              ('@kvg:type', '㇒'),\n",
       "              ('@d',\n",
       "               'M84.21,47.14c0.09,1,0.08,2.39-0.43,3.78c-3.28,8.82-13.86,27.11-31.47,38.54'),\n",
       "              ('@xmlns:kvg', 'http://kanjivg.tagaini.net')]),\n",
       " OrderedDict([('@id', 'kvg:06211-s7'),\n",
       "              ('@kvg:type', '㇔'),\n",
       "              ('@d', 'M80.88,16.62c3.22,1.82,8.37,6,9.88,9.12'),\n",
       "              ('@xmlns:kvg', 'http://kanjivg.tagaini.net')]),\n",
       " OrderedDict([('@id', 'kvg:06211-s4'),\n",
       "              ('@kvg:type', '㇀'),\n",
       "              ('@d',\n",
       "               'M15.62,74.5c1.38,0.88,3.03,0.67,4.69-0.35c1.62-1,21.43-13.52,29.93-19.15'),\n",
       "              ('@xmlns:kvg', 'http://kanjivg.tagaini.net')])]"
      ]
     },
     "execution_count": 70,
     "metadata": {},
     "output_type": "execute_result"
    }
   ],
   "source": [
    "strokes"
   ]
  },
  {
   "cell_type": "code",
   "execution_count": 71,
   "metadata": {
    "collapsed": false
   },
   "outputs": [
    {
     "data": {
      "text/plain": [
       "OrderedDict([('svg',\n",
       "              OrderedDict([('@xmlns', 'http://www.w3.org/2000/svg'),\n",
       "                           ('@width', '300'),\n",
       "                           ('@height', '300'),\n",
       "                           ('@viewBox', '0 0 109 109'),\n",
       "                           ('g',\n",
       "                            [OrderedDict([('@id', 'kvg:StrokePaths_06211'),\n",
       "                                          ('@style',\n",
       "                                           'fill:none;stroke:#000000;stroke-width:3;stroke-linecap:round;stroke-linejoin:round;'),\n",
       "                                          ('@xmlns:kvg',\n",
       "                                           'http://kanjivg.tagaini.net'),\n",
       "                                          ('g',\n",
       "                                           OrderedDict([('@id', 'kvg:06211'),\n",
       "                                                        ('@kvg:element', '我'),\n",
       "                                                        ('@xmlns:kvg',\n",
       "                                                         'http://kanjivg.tagaini.net'),\n",
       "                                                        ('g',\n",
       "                                                         [OrderedDict([('@id',\n",
       "                                                                        'kvg:06211-g1'),\n",
       "                                                                       ('@kvg:element',\n",
       "                                                                        '丿'),\n",
       "                                                                       ('@kvg:radical',\n",
       "                                                                        'nelson'),\n",
       "                                                                       ('@xmlns:kvg',\n",
       "                                                                        'http://kanjivg.tagaini.net'),\n",
       "                                                                       ('path',\n",
       "                                                                        OrderedDict([('@id',\n",
       "                                                                                      'kvg:06211-s1'),\n",
       "                                                                                     ('@kvg:type',\n",
       "                                                                                      '㇒'),\n",
       "                                                                                     ('@d',\n",
       "                                                                                      'M45.99,16.14c0.06,0.38-0.2,1.85-0.62,2.27c-3.75,3.71-9.5,7.96-21.56,13.8'),\n",
       "                                                                                     ('@xmlns:kvg',\n",
       "                                                                                      'http://kanjivg.tagaini.net'),\n",
       "                                                                                     ('@class',\n",
       "                                                                                      'foo')]))]),\n",
       "                                                          OrderedDict([('@id',\n",
       "                                                                        'kvg:06211-g2'),\n",
       "                                                                       ('@kvg:element',\n",
       "                                                                        '戈'),\n",
       "                                                                       ('@kvg:part',\n",
       "                                                                        '1'),\n",
       "                                                                       ('@kvg:radical',\n",
       "                                                                        'tradit'),\n",
       "                                                                       ('@xmlns:kvg',\n",
       "                                                                        'http://kanjivg.tagaini.net'),\n",
       "                                                                       ('g',\n",
       "                                                                        OrderedDict([('@id',\n",
       "                                                                                      'kvg:06211-g3'),\n",
       "                                                                                     ('@kvg:element',\n",
       "                                                                                      '弋'),\n",
       "                                                                                     ('@kvg:part',\n",
       "                                                                                      '1'),\n",
       "                                                                                     ('@xmlns:kvg',\n",
       "                                                                                      'http://kanjivg.tagaini.net'),\n",
       "                                                                                     ('path',\n",
       "                                                                                      OrderedDict([('@id',\n",
       "                                                                                                    'kvg:06211-s2'),\n",
       "                                                                                                   ('@kvg:type',\n",
       "                                                                                                    '㇐'),\n",
       "                                                                                                   ('@d',\n",
       "                                                                                                    'M15.75,44.95c2.88,0.68,5.82,0.43,8.52,0.1c9.61-1.17,43.59-6.49,60.24-7.8c3.07-0.24,5.97-0.35,9,0.3'),\n",
       "                                                                                                   ('@xmlns:kvg',\n",
       "                                                                                                    'http://kanjivg.tagaini.net')]))]))]),\n",
       "                                                          OrderedDict([('@id',\n",
       "                                                                        'kvg:06211-g4'),\n",
       "                                                                       ('@kvg:element',\n",
       "                                                                        '亅'),\n",
       "                                                                       ('@xmlns:kvg',\n",
       "                                                                        'http://kanjivg.tagaini.net'),\n",
       "                                                                       ('path',\n",
       "                                                                        OrderedDict([('@id',\n",
       "                                                                                      'kvg:06211-s3'),\n",
       "                                                                                     ('@kvg:type',\n",
       "                                                                                      '㇚'),\n",
       "                                                                                     ('@d',\n",
       "                                                                                      'M39.02,27.33c0.83,0.83,1.51,2.04,1.51,4.27c0,14.56-0.01,52.4-0.01,58.37c0,11.78-5.71,1.75-7.21,0.5'),\n",
       "                                                                                     ('@xmlns:kvg',\n",
       "                                                                                      'http://kanjivg.tagaini.net')]))]),\n",
       "                                                          OrderedDict([('@id',\n",
       "                                                                        'kvg:06211-g5'),\n",
       "                                                                       ('@kvg:element',\n",
       "                                                                        '戈'),\n",
       "                                                                       ('@kvg:part',\n",
       "                                                                        '2'),\n",
       "                                                                       ('@kvg:radical',\n",
       "                                                                        'tradit'),\n",
       "                                                                       ('@xmlns:kvg',\n",
       "                                                                        'http://kanjivg.tagaini.net'),\n",
       "                                                                       ('path',\n",
       "                                                                        OrderedDict([('@id',\n",
       "                                                                                      'kvg:06211-s5'),\n",
       "                                                                                     ('@kvg:type',\n",
       "                                                                                      '㇂'),\n",
       "                                                                                     ('@d',\n",
       "                                                                                      'M60,12.25c1.12,1.38,1.5,3.38,1.74,6.29c2.89,35.21,8.89,61.71,29.79,75.88c5.93,4.02,6.23,2.08,4.9-5.59'),\n",
       "                                                                                     ('@xmlns:kvg',\n",
       "                                                                                      'http://kanjivg.tagaini.net')])),\n",
       "                                                                       ('g',\n",
       "                                                                        [OrderedDict([('@id',\n",
       "                                                                                       'kvg:06211-g6'),\n",
       "                                                                                      ('@kvg:element',\n",
       "                                                                                       '丿'),\n",
       "                                                                                      ('@xmlns:kvg',\n",
       "                                                                                       'http://kanjivg.tagaini.net'),\n",
       "                                                                                      ('path',\n",
       "                                                                                       OrderedDict([('@id',\n",
       "                                                                                                     'kvg:06211-s6'),\n",
       "                                                                                                    ('@kvg:type',\n",
       "                                                                                                     '㇒'),\n",
       "                                                                                                    ('@d',\n",
       "                                                                                                     'M84.21,47.14c0.09,1,0.08,2.39-0.43,3.78c-3.28,8.82-13.86,27.11-31.47,38.54'),\n",
       "                                                                                                    ('@xmlns:kvg',\n",
       "                                                                                                     'http://kanjivg.tagaini.net')]))]),\n",
       "                                                                         OrderedDict([('@id',\n",
       "                                                                                       'kvg:06211-g7'),\n",
       "                                                                                      ('@kvg:element',\n",
       "                                                                                       '弋'),\n",
       "                                                                                      ('@kvg:part',\n",
       "                                                                                       '2'),\n",
       "                                                                                      ('@xmlns:kvg',\n",
       "                                                                                       'http://kanjivg.tagaini.net'),\n",
       "                                                                                      ('g',\n",
       "                                                                                       OrderedDict([('@id',\n",
       "                                                                                                     'kvg:06211-g8'),\n",
       "                                                                                                    ('@kvg:element',\n",
       "                                                                                                     '丶'),\n",
       "                                                                                                    ('@xmlns:kvg',\n",
       "                                                                                                     'http://kanjivg.tagaini.net'),\n",
       "                                                                                                    ('path',\n",
       "                                                                                                     OrderedDict([('@id',\n",
       "                                                                                                                   'kvg:06211-s7'),\n",
       "                                                                                                                  ('@kvg:type',\n",
       "                                                                                                                   '㇔'),\n",
       "                                                                                                                  ('@d',\n",
       "                                                                                                                   'M80.88,16.62c3.22,1.82,8.37,6,9.88,9.12'),\n",
       "                                                                                                                  ('@xmlns:kvg',\n",
       "                                                                                                                   'http://kanjivg.tagaini.net')]))]))])])])]),\n",
       "                                                        ('path',\n",
       "                                                         OrderedDict([('@id',\n",
       "                                                                       'kvg:06211-s4'),\n",
       "                                                                      ('@kvg:type',\n",
       "                                                                       '㇀'),\n",
       "                                                                      ('@d',\n",
       "                                                                       'M15.62,74.5c1.38,0.88,3.03,0.67,4.69-0.35c1.62-1,21.43-13.52,29.93-19.15'),\n",
       "                                                                      ('@xmlns:kvg',\n",
       "                                                                       'http://kanjivg.tagaini.net')]))]))]),\n",
       "                             OrderedDict([('@id', 'kvg:StrokeNumbers_06211'),\n",
       "                                          ('@style',\n",
       "                                           'font-size:8;fill:#808080'),\n",
       "                                          ('@xmlns:kvg',\n",
       "                                           'http://kanjivg.tagaini.net'),\n",
       "                                          ('text',\n",
       "                                           [OrderedDict([('@transform',\n",
       "                                                          'matrix(1 0 0 1 38.50 16.50)'),\n",
       "                                                         ('#text', '1')]),\n",
       "                                            OrderedDict([('@transform',\n",
       "                                                          'matrix(1 0 0 1 8.25 46.50)'),\n",
       "                                                         ('#text', '2')]),\n",
       "                                            OrderedDict([('@transform',\n",
       "                                                          'matrix(1 0 0 1 33.75 37.63)'),\n",
       "                                                         ('#text', '3')]),\n",
       "                                            OrderedDict([('@transform',\n",
       "                                                          'matrix(1 0 0 1 7.50 77.50)'),\n",
       "                                                         ('#text', '4')]),\n",
       "                                            OrderedDict([('@transform',\n",
       "                                                          'matrix(1 0 0 1 50.50 12.50)'),\n",
       "                                                         ('#text', '5')]),\n",
       "                                            OrderedDict([('@transform',\n",
       "                                                          'matrix(1 0 0 1 76.75 50.63)'),\n",
       "                                                         ('#text', '6')]),\n",
       "                                            OrderedDict([('@transform',\n",
       "                                                          'matrix(1 0 0 1 73.50 17.50)'),\n",
       "                                                         ('#text',\n",
       "                                                          '7')])])])])]))])"
      ]
     },
     "execution_count": 71,
     "metadata": {},
     "output_type": "execute_result"
    }
   ],
   "source": [
    "kdict"
   ]
  },
  {
   "cell_type": "code",
   "execution_count": 74,
   "metadata": {
    "collapsed": false
   },
   "outputs": [],
   "source": [
    "import xmltodict"
   ]
  },
  {
   "cell_type": "code",
   "execution_count": 80,
   "metadata": {
    "collapsed": false
   },
   "outputs": [
    {
     "data": {
      "text/plain": [
       "'<?xml version=\"1.0\" encoding=\"utf-8\"?>\\n<path id=\"kvg:06211-s1\" kvg:type=\"㇒\" d=\"M45.99,16.14c0.06,0.38-0.2,1.85-0.62,2.27c-3.75,3.71-9.5,7.96-21.56,13.8\" xmlns:kvg=\"http://kanjivg.tagaini.net\" class=\"foo\"></path>'"
      ]
     },
     "execution_count": 80,
     "metadata": {},
     "output_type": "execute_result"
    }
   ],
   "source": [
    "xmltodict.unparse({'path': strokes[0]})"
   ]
  },
  {
   "cell_type": "code",
   "execution_count": 76,
   "metadata": {
    "collapsed": false
   },
   "outputs": [
    {
     "data": {
      "text/plain": [
       "5"
      ]
     },
     "execution_count": 76,
     "metadata": {},
     "output_type": "execute_result"
    }
   ],
   "source": [
    "len(strokes[0])"
   ]
  },
  {
   "cell_type": "code",
   "execution_count": 77,
   "metadata": {
    "collapsed": false
   },
   "outputs": [
    {
     "data": {
      "text/plain": [
       "5"
      ]
     },
     "execution_count": 77,
     "metadata": {},
     "output_type": "execute_result"
    }
   ],
   "source": [
    "len(svg)"
   ]
  },
  {
   "cell_type": "code",
   "execution_count": 78,
   "metadata": {
    "collapsed": false
   },
   "outputs": [
    {
     "data": {
      "text/plain": [
       "1"
      ]
     },
     "execution_count": 78,
     "metadata": {},
     "output_type": "execute_result"
    }
   ],
   "source": [
    "len(kdict)"
   ]
  },
  {
   "cell_type": "code",
   "execution_count": 79,
   "metadata": {
    "collapsed": false
   },
   "outputs": [
    {
     "data": {
      "text/plain": [
       "OrderedDict([('svg',\n",
       "              OrderedDict([('@xmlns', 'http://www.w3.org/2000/svg'),\n",
       "                           ('@width', '300'),\n",
       "                           ('@height', '300'),\n",
       "                           ('@viewBox', '0 0 109 109'),\n",
       "                           ('g',\n",
       "                            [OrderedDict([('@id', 'kvg:StrokePaths_06211'),\n",
       "                                          ('@style',\n",
       "                                           'fill:none;stroke:#000000;stroke-width:3;stroke-linecap:round;stroke-linejoin:round;'),\n",
       "                                          ('@xmlns:kvg',\n",
       "                                           'http://kanjivg.tagaini.net'),\n",
       "                                          ('g',\n",
       "                                           OrderedDict([('@id', 'kvg:06211'),\n",
       "                                                        ('@kvg:element', '我'),\n",
       "                                                        ('@xmlns:kvg',\n",
       "                                                         'http://kanjivg.tagaini.net'),\n",
       "                                                        ('g',\n",
       "                                                         [OrderedDict([('@id',\n",
       "                                                                        'kvg:06211-g1'),\n",
       "                                                                       ('@kvg:element',\n",
       "                                                                        '丿'),\n",
       "                                                                       ('@kvg:radical',\n",
       "                                                                        'nelson'),\n",
       "                                                                       ('@xmlns:kvg',\n",
       "                                                                        'http://kanjivg.tagaini.net'),\n",
       "                                                                       ('path',\n",
       "                                                                        OrderedDict([('@id',\n",
       "                                                                                      'kvg:06211-s1'),\n",
       "                                                                                     ('@kvg:type',\n",
       "                                                                                      '㇒'),\n",
       "                                                                                     ('@d',\n",
       "                                                                                      'M45.99,16.14c0.06,0.38-0.2,1.85-0.62,2.27c-3.75,3.71-9.5,7.96-21.56,13.8'),\n",
       "                                                                                     ('@xmlns:kvg',\n",
       "                                                                                      'http://kanjivg.tagaini.net'),\n",
       "                                                                                     ('@class',\n",
       "                                                                                      'foo')]))]),\n",
       "                                                          OrderedDict([('@id',\n",
       "                                                                        'kvg:06211-g2'),\n",
       "                                                                       ('@kvg:element',\n",
       "                                                                        '戈'),\n",
       "                                                                       ('@kvg:part',\n",
       "                                                                        '1'),\n",
       "                                                                       ('@kvg:radical',\n",
       "                                                                        'tradit'),\n",
       "                                                                       ('@xmlns:kvg',\n",
       "                                                                        'http://kanjivg.tagaini.net'),\n",
       "                                                                       ('g',\n",
       "                                                                        OrderedDict([('@id',\n",
       "                                                                                      'kvg:06211-g3'),\n",
       "                                                                                     ('@kvg:element',\n",
       "                                                                                      '弋'),\n",
       "                                                                                     ('@kvg:part',\n",
       "                                                                                      '1'),\n",
       "                                                                                     ('@xmlns:kvg',\n",
       "                                                                                      'http://kanjivg.tagaini.net'),\n",
       "                                                                                     ('path',\n",
       "                                                                                      OrderedDict([('@id',\n",
       "                                                                                                    'kvg:06211-s2'),\n",
       "                                                                                                   ('@kvg:type',\n",
       "                                                                                                    '㇐'),\n",
       "                                                                                                   ('@d',\n",
       "                                                                                                    'M15.75,44.95c2.88,0.68,5.82,0.43,8.52,0.1c9.61-1.17,43.59-6.49,60.24-7.8c3.07-0.24,5.97-0.35,9,0.3'),\n",
       "                                                                                                   ('@xmlns:kvg',\n",
       "                                                                                                    'http://kanjivg.tagaini.net')]))]))]),\n",
       "                                                          OrderedDict([('@id',\n",
       "                                                                        'kvg:06211-g4'),\n",
       "                                                                       ('@kvg:element',\n",
       "                                                                        '亅'),\n",
       "                                                                       ('@xmlns:kvg',\n",
       "                                                                        'http://kanjivg.tagaini.net'),\n",
       "                                                                       ('path',\n",
       "                                                                        OrderedDict([('@id',\n",
       "                                                                                      'kvg:06211-s3'),\n",
       "                                                                                     ('@kvg:type',\n",
       "                                                                                      '㇚'),\n",
       "                                                                                     ('@d',\n",
       "                                                                                      'M39.02,27.33c0.83,0.83,1.51,2.04,1.51,4.27c0,14.56-0.01,52.4-0.01,58.37c0,11.78-5.71,1.75-7.21,0.5'),\n",
       "                                                                                     ('@xmlns:kvg',\n",
       "                                                                                      'http://kanjivg.tagaini.net')]))]),\n",
       "                                                          OrderedDict([('@id',\n",
       "                                                                        'kvg:06211-g5'),\n",
       "                                                                       ('@kvg:element',\n",
       "                                                                        '戈'),\n",
       "                                                                       ('@kvg:part',\n",
       "                                                                        '2'),\n",
       "                                                                       ('@kvg:radical',\n",
       "                                                                        'tradit'),\n",
       "                                                                       ('@xmlns:kvg',\n",
       "                                                                        'http://kanjivg.tagaini.net'),\n",
       "                                                                       ('path',\n",
       "                                                                        OrderedDict([('@id',\n",
       "                                                                                      'kvg:06211-s5'),\n",
       "                                                                                     ('@kvg:type',\n",
       "                                                                                      '㇂'),\n",
       "                                                                                     ('@d',\n",
       "                                                                                      'M60,12.25c1.12,1.38,1.5,3.38,1.74,6.29c2.89,35.21,8.89,61.71,29.79,75.88c5.93,4.02,6.23,2.08,4.9-5.59'),\n",
       "                                                                                     ('@xmlns:kvg',\n",
       "                                                                                      'http://kanjivg.tagaini.net')])),\n",
       "                                                                       ('g',\n",
       "                                                                        [OrderedDict([('@id',\n",
       "                                                                                       'kvg:06211-g6'),\n",
       "                                                                                      ('@kvg:element',\n",
       "                                                                                       '丿'),\n",
       "                                                                                      ('@xmlns:kvg',\n",
       "                                                                                       'http://kanjivg.tagaini.net'),\n",
       "                                                                                      ('path',\n",
       "                                                                                       OrderedDict([('@id',\n",
       "                                                                                                     'kvg:06211-s6'),\n",
       "                                                                                                    ('@kvg:type',\n",
       "                                                                                                     '㇒'),\n",
       "                                                                                                    ('@d',\n",
       "                                                                                                     'M84.21,47.14c0.09,1,0.08,2.39-0.43,3.78c-3.28,8.82-13.86,27.11-31.47,38.54'),\n",
       "                                                                                                    ('@xmlns:kvg',\n",
       "                                                                                                     'http://kanjivg.tagaini.net')]))]),\n",
       "                                                                         OrderedDict([('@id',\n",
       "                                                                                       'kvg:06211-g7'),\n",
       "                                                                                      ('@kvg:element',\n",
       "                                                                                       '弋'),\n",
       "                                                                                      ('@kvg:part',\n",
       "                                                                                       '2'),\n",
       "                                                                                      ('@xmlns:kvg',\n",
       "                                                                                       'http://kanjivg.tagaini.net'),\n",
       "                                                                                      ('g',\n",
       "                                                                                       OrderedDict([('@id',\n",
       "                                                                                                     'kvg:06211-g8'),\n",
       "                                                                                                    ('@kvg:element',\n",
       "                                                                                                     '丶'),\n",
       "                                                                                                    ('@xmlns:kvg',\n",
       "                                                                                                     'http://kanjivg.tagaini.net'),\n",
       "                                                                                                    ('path',\n",
       "                                                                                                     OrderedDict([('@id',\n",
       "                                                                                                                   'kvg:06211-s7'),\n",
       "                                                                                                                  ('@kvg:type',\n",
       "                                                                                                                   '㇔'),\n",
       "                                                                                                                  ('@d',\n",
       "                                                                                                                   'M80.88,16.62c3.22,1.82,8.37,6,9.88,9.12'),\n",
       "                                                                                                                  ('@xmlns:kvg',\n",
       "                                                                                                                   'http://kanjivg.tagaini.net')]))]))])])])]),\n",
       "                                                        ('path',\n",
       "                                                         OrderedDict([('@id',\n",
       "                                                                       'kvg:06211-s4'),\n",
       "                                                                      ('@kvg:type',\n",
       "                                                                       '㇀'),\n",
       "                                                                      ('@d',\n",
       "                                                                       'M15.62,74.5c1.38,0.88,3.03,0.67,4.69-0.35c1.62-1,21.43-13.52,29.93-19.15'),\n",
       "                                                                      ('@xmlns:kvg',\n",
       "                                                                       'http://kanjivg.tagaini.net')]))]))]),\n",
       "                             OrderedDict([('@id', 'kvg:StrokeNumbers_06211'),\n",
       "                                          ('@style',\n",
       "                                           'font-size:8;fill:#808080'),\n",
       "                                          ('@xmlns:kvg',\n",
       "                                           'http://kanjivg.tagaini.net'),\n",
       "                                          ('text',\n",
       "                                           [OrderedDict([('@transform',\n",
       "                                                          'matrix(1 0 0 1 38.50 16.50)'),\n",
       "                                                         ('#text', '1')]),\n",
       "                                            OrderedDict([('@transform',\n",
       "                                                          'matrix(1 0 0 1 8.25 46.50)'),\n",
       "                                                         ('#text', '2')]),\n",
       "                                            OrderedDict([('@transform',\n",
       "                                                          'matrix(1 0 0 1 33.75 37.63)'),\n",
       "                                                         ('#text', '3')]),\n",
       "                                            OrderedDict([('@transform',\n",
       "                                                          'matrix(1 0 0 1 7.50 77.50)'),\n",
       "                                                         ('#text', '4')]),\n",
       "                                            OrderedDict([('@transform',\n",
       "                                                          'matrix(1 0 0 1 50.50 12.50)'),\n",
       "                                                         ('#text', '5')]),\n",
       "                                            OrderedDict([('@transform',\n",
       "                                                          'matrix(1 0 0 1 76.75 50.63)'),\n",
       "                                                         ('#text', '6')]),\n",
       "                                            OrderedDict([('@transform',\n",
       "                                                          'matrix(1 0 0 1 73.50 17.50)'),\n",
       "                                                         ('#text',\n",
       "                                                          '7')])])])])]))])"
      ]
     },
     "execution_count": 79,
     "metadata": {},
     "output_type": "execute_result"
    }
   ],
   "source": [
    "kdict"
   ]
  },
  {
   "cell_type": "code",
   "execution_count": 81,
   "metadata": {
    "collapsed": false
   },
   "outputs": [
    {
     "data": {
      "text/plain": [
       "b'\\x06\\xf1\\xe4\\x18y\\x10\\xd1\\xbf\\x1e\\xf9\\xa6\\xbe\\x862>\\xb3+\\xa1\\x7f\\x07\\xe761\\xbd'"
      ]
     },
     "execution_count": 81,
     "metadata": {},
     "output_type": "execute_result"
    }
   ],
   "source": [
    "os.urandom(24)"
   ]
  },
  {
   "cell_type": "code",
   "execution_count": 83,
   "metadata": {
    "collapsed": false
   },
   "outputs": [
    {
     "data": {
      "text/plain": [
       "<enumerate at 0x7f5f79c024c8>"
      ]
     },
     "execution_count": 83,
     "metadata": {},
     "output_type": "execute_result"
    }
   ],
   "source": [
    "enumerate(range(10))"
   ]
  },
  {
   "cell_type": "code",
   "execution_count": 95,
   "metadata": {
    "collapsed": true
   },
   "outputs": [],
   "source": [
    "xmltodict.unparse?"
   ]
  },
  {
   "cell_type": "code",
   "execution_count": null,
   "metadata": {
    "collapsed": true
   },
   "outputs": [],
   "source": []
  }
 ],
 "metadata": {
  "kernelspec": {
   "display_name": "Python 3",
   "language": "python",
   "name": "python3"
  },
  "language_info": {
   "codemirror_mode": {
    "name": "ipython",
    "version": 3
   },
   "file_extension": ".py",
   "mimetype": "text/x-python",
   "name": "python",
   "nbconvert_exporter": "python",
   "pygments_lexer": "ipython3",
   "version": "3.4.3"
  }
 },
 "nbformat": 4,
 "nbformat_minor": 0
}
